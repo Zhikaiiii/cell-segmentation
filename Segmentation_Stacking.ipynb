{
 "cells": [
  {
   "cell_type": "code",
   "execution_count": 1,
   "metadata": {
    "colab": {
     "base_uri": "https://localhost:8080/",
     "height": 33
    },
    "colab_type": "code",
    "executionInfo": {
     "elapsed": 598,
     "status": "ok",
     "timestamp": 1592387748048,
     "user": {
      "displayName": "Yichong Wang",
      "photoUrl": "",
      "userId": "10580894442079928862"
     },
     "user_tz": -480
    },
    "id": "k4sxKnGiur6f",
    "outputId": "448054d0-ad5f-42fe-92c0-c613e1bdf45d"
   },
   "outputs": [
    {
     "name": "stdout",
     "output_type": "stream",
     "text": [
      "Drive already mounted at /content/gdrive; to attempt to forcibly remount, call drive.mount(\"/content/gdrive\", force_remount=True).\n"
     ]
    }
   ],
   "source": [
    "from google.colab import drive\n",
    "drive.mount('/content/gdrive')"
   ]
  },
  {
   "cell_type": "code",
   "execution_count": 2,
   "metadata": {
    "colab": {
     "base_uri": "https://localhost:8080/",
     "height": 33
    },
    "colab_type": "code",
    "executionInfo": {
     "elapsed": 4628,
     "status": "ok",
     "timestamp": 1592387752085,
     "user": {
      "displayName": "Yichong Wang",
      "photoUrl": "",
      "userId": "10580894442079928862"
     },
     "user_tz": -480
    },
    "id": "ROlFS6NOur6j",
    "outputId": "dbcadbe8-d8cf-411a-c33b-16ea988ddb61"
   },
   "outputs": [
    {
     "name": "stdout",
     "output_type": "stream",
     "text": [
      "Requirement already satisfied: ttach in /usr/local/lib/python3.6/dist-packages (0.0.2)\n"
     ]
    }
   ],
   "source": [
    "import os\n",
    "os.chdir(\"/content/gdrive/My Drive/wzk/seg1\")\n",
    "# !pip install git+https://github.com/qubvel/segmentation_models.pytorch\n",
    "!pip install ttach"
   ]
  },
  {
   "cell_type": "markdown",
   "metadata": {
    "colab_type": "text",
    "id": "iqaFSA3hur6l"
   },
   "source": [
    "## 引入相关库"
   ]
  },
  {
   "cell_type": "code",
   "execution_count": 3,
   "metadata": {
    "colab": {},
    "colab_type": "code",
    "executionInfo": {
     "elapsed": 7802,
     "status": "ok",
     "timestamp": 1592387755266,
     "user": {
      "displayName": "Yichong Wang",
      "photoUrl": "",
      "userId": "10580894442079928862"
     },
     "user_tz": -480
    },
    "id": "G0VVMe0Lur6m"
   },
   "outputs": [],
   "source": [
    "import numpy as np\n",
    "from PIL import Image\n",
    "import matplotlib.pyplot as plt\n",
    "from torch.utils.data import DataLoader, random_split\n",
    "from torchvision import transforms\n",
    "from torch.autograd import Variable\n",
    "import torch.optim as optim\n",
    "from torchsummary import summary\n",
    "import torch.nn as nn\n",
    "import torch\n",
    "from torch.utils.data import Dataset\n",
    "import torchvision.transforms.functional as tf\n",
    "from losses import *\n",
    "from utils import *\n",
    "from UNet import *\n",
    "from UNetplusplus import *\n",
    "from tqdm import tqdm\n",
    "from sklearn.model_selection import StratifiedKFold\n",
    "# import segmentation_models_pytorch as smp\n",
    "import ttach as tta\n",
    "import random"
   ]
  },
  {
   "cell_type": "code",
   "execution_count": 4,
   "metadata": {
    "colab": {},
    "colab_type": "code",
    "executionInfo": {
     "elapsed": 578,
     "status": "ok",
     "timestamp": 1592387781945,
     "user": {
      "displayName": "Yichong Wang",
      "photoUrl": "",
      "userId": "10580894442079928862"
     },
     "user_tz": -480
    },
    "id": "D2pdiuJYyQi_"
   },
   "outputs": [],
   "source": [
    "# 设置随机数种子\n",
    "def setup_seed(seed):\n",
    "  torch.manual_seed(seed)\n",
    "  torch.cuda.manual_seed_all(seed)\n",
    "  np.random.seed(seed)\n",
    "  random.seed(seed)\n",
    "  torch.backends.cudnn.deterministic = True\n",
    "seed = 1024\n",
    "setup_seed(seed)"
   ]
  },
  {
   "cell_type": "markdown",
   "metadata": {
    "colab_type": "text",
    "id": "uE2imUugur6o"
   },
   "source": [
    "## 读取数据"
   ]
  },
  {
   "cell_type": "code",
   "execution_count": 5,
   "metadata": {
    "colab": {
     "base_uri": "https://localhost:8080/",
     "height": 50
    },
    "colab_type": "code",
    "executionInfo": {
     "elapsed": 14744,
     "status": "ok",
     "timestamp": 1592387797263,
     "user": {
      "displayName": "Yichong Wang",
      "photoUrl": "",
      "userId": "10580894442079928862"
     },
     "user_tz": -480
    },
    "id": "b8lVR4vlur6o",
    "outputId": "ca22769e-6f68-4497-be8f-22f2d2ee48c7"
   },
   "outputs": [
    {
     "name": "stderr",
     "output_type": "stream",
     "text": [
      "100%|██████████| 175/175 [00:13<00:00, 13.15it/s]\n",
      "100%|██████████| 33/33 [00:00<00:00, 50.53it/s]\n"
     ]
    }
   ],
   "source": [
    "# 读取数据\n",
    "train_x_path = './supplementary_modify/dataset1/train/'\n",
    "train_y_path = './supplementary_modify/dataset1/train_GT/SEG/'\n",
    "test_x_path = './supplementary_modify/dataset1/test/'\n",
    "train_x = []\n",
    "train_y = []\n",
    "test_x = []\n",
    "filename_train_x = os.listdir(train_x_path)\n",
    "train_num = len(filename_train_x)\n",
    "for i in tqdm(range(train_num)):\n",
    "    filename = filename_train_x[i]\n",
    "    img = cv2.imread(train_x_path + filename, -1)\n",
    "    img = img_standardization(img)\n",
    "    train_x.append(img)\n",
    "    filename2 = 'man_seg' + filename[1:]\n",
    "    img_label = cv2.imread(train_y_path + filename2, -1)\n",
    "    img_mask = generate_mask(img_label)\n",
    "    train_y.append(img_mask)\n",
    "filename_test_x = os.listdir(test_x_path)\n",
    "filename_test_x.sort()\n",
    "test_num = len(filename_test_x)\n",
    "for i in tqdm(range(test_num)):\n",
    "    filename = filename_test_x[i]\n",
    "    img_test = cv2.imread(test_x_path + filename, -1)\n",
    "    img_test = img_standardization(img_test)\n",
    "    test_x.append(img_test)\n",
    "train_x = np.asarray(train_x)\n",
    "train_y = np.asarray(train_y)\n",
    "test_x = np.asarray(test_x)"
   ]
  },
  {
   "cell_type": "markdown",
   "metadata": {
    "colab_type": "text",
    "id": "Ez07wNZnur6r"
   },
   "source": [
    " ## 数据处理与训练"
   ]
  },
  {
   "cell_type": "code",
   "execution_count": 6,
   "metadata": {
    "colab": {},
    "colab_type": "code",
    "executionInfo": {
     "elapsed": 555,
     "status": "ok",
     "timestamp": 1592387799326,
     "user": {
      "displayName": "Yichong Wang",
      "photoUrl": "",
      "userId": "10580894442079928862"
     },
     "user_tz": -480
    },
    "id": "D6OLIYwyur6x"
   },
   "outputs": [],
   "source": [
    "def train_one_fold(model, train_loader, val_loader=None, in_channel=3 , out_channel=1, fold=0):\n",
    "    # 超参数设置\n",
    "    lr = 0.0001\n",
    "    device = torch.device('cuda' if torch.cuda.is_available() else 'cpu')\n",
    "    # model.apply(init_weights)\n",
    "    model = model.to(device)\n",
    "    optimizer = optim.Adam(model.parameters(),lr=lr)\n",
    "    loss = BCEDiceLoss()\n",
    "    # js停止上升时改变学习率\n",
    "    scheduler = optim.lr_scheduler.ReduceLROnPlateau(optimizer, 'max', patience=3)\n",
    "    num_epochs = 15\n",
    "    for epoch in range(num_epochs):\n",
    "        train_loader = tqdm(train_loader)\n",
    "        train_loss = 0\n",
    "        model.train()\n",
    "        for i, (X, Y) in enumerate(train_loader):  # 使用枚举函数遍历train_loader\n",
    "            X = Variable(X).to(device) #转化数据类型\n",
    "            X = X.float()\n",
    "            Y = Variable(Y).to(device)\n",
    "            Y = Y.float()\n",
    "            outs = model(X)  # 正向传播\n",
    "            lossvalue = 0\n",
    "            lossvalue += loss(outs, Y[:,0:out_channel,:,:])\n",
    "            optimizer.zero_grad()  # 优化器梯度归零\n",
    "            lossvalue.backward()  # 反向转播，刷新梯度值\n",
    "            # 梯度裁剪\n",
    "            nn.utils.clip_grad_value_(model.parameters(), 1)\n",
    "            optimizer.step()  \n",
    "            # 计算损失\n",
    "            train_loss += float(lossvalue)\n",
    "        val_loss = 0  # 定义验证损失\n",
    "        val_js = 0\n",
    "        max_js = 0\n",
    "        model.eval() #模型转化为评估模式\n",
    "        if not val_loader: continue\n",
    "        val_loader = tqdm(val_loader)\n",
    "        for i,(X, Y) in enumerate(val_loader):\n",
    "            X = Variable(X).to(device)\n",
    "            X = X.float()\n",
    "            Y = Variable(Y).to(device)\n",
    "            with torch.no_grad():\n",
    "                outs = model(X)\n",
    "            lossvalue = loss(outs, Y[:,0:out_channel,:,:])\n",
    "            score = cal_jaccard_binary(outs, Y[:,0:out_channel,:,:])\n",
    "            val_loss += float(lossvalue)\n",
    "            val_js += score\n",
    "        scheduler.step(val_js)\n",
    "        max_js = max(max_js,val_js)\n",
    "        model_name = 'model_unet_' + str(fold) + '.pkl'\n",
    "        if max_js == val_js:\n",
    "            torch.save(model, model_name)      \n",
    "        print(\"epoch:\" + ' ' + str(epoch))\n",
    "        lr = optimizer.state_dict()['param_groups'][0]['lr']\n",
    "        print(\"lr:\", lr)\n",
    "        print(\"train lose:\" + ' ' + str(train_loss / len(train_loader)))\n",
    "        print(\"val lose:\" + ' ' + str(val_loss / len(val_loader)))\n",
    "        print(\"val js:\" + ' ' + str(val_js / len(val_loader)))\n",
    "    return model\n",
    "    "
   ]
  },
  {
   "cell_type": "code",
   "execution_count": 7,
   "metadata": {
    "colab": {},
    "colab_type": "code",
    "executionInfo": {
     "elapsed": 319,
     "status": "ok",
     "timestamp": 1592387799603,
     "user": {
      "displayName": "Yichong Wang",
      "photoUrl": "",
      "userId": "10580894442079928862"
     },
     "user_tz": -480
    },
    "id": "ZqrMSuoq594S"
   },
   "outputs": [],
   "source": [
    "def validation(model, val_loader):\n",
    "    device = torch.device('cuda' if torch.cuda.is_available() else 'cpu')\n",
    "    model = model.to(device)\n",
    "    model.eval()\n",
    "    val_marker,val_border = [],[]\n",
    "    val_y,val_x = [],[]\n",
    "    for i, (X,Y) in enumerate(val_loader):\n",
    "        X = Variable(X).to(device)\n",
    "        X = X.float()\n",
    "        Y = Variable(Y).to(device)\n",
    "        with torch.no_grad():\n",
    "          out = model(X)\n",
    "          out_prob1 = torch.sigmoid(out[:,0,:,:])\n",
    "          out_prob2 = torch.sigmoid(out[:,1,:,:])\n",
    "        y_marker, y_border = out_prob1.cpu().clone().numpy()[0,:,:], out_prob2.cpu().clone().numpy()[0,:,:]\n",
    "        val_marker.append(y_marker)\n",
    "        val_border.append(y_border)\n",
    "        x_real = X.cpu().clone().numpy()[0,0,:,:]\n",
    "        y_real = np.zeros((640,640,3))\n",
    "        y_real[:,:,0] = Y.cpu().clone().numpy()[0,0,:,:]\n",
    "        y_real[:,:,1] = Y.cpu().clone().numpy()[0,1,:,:]\n",
    "        y_real[:,:,2] = Y.cpu().clone().numpy()[0,2,:,:]        \n",
    "        val_y.append(y_real)\n",
    "        val_x.append(x_real)\n",
    "    val_marker = np.asarray(val_marker)\n",
    "    val_marker = np.expand_dims(val_marker,3)\n",
    "    val_border = np.asarray(val_border)\n",
    "    val_border = np.expand_dims(val_border,3)\n",
    "    val_x = np.asarray(val_x)\n",
    "    val_x = np.expand_dims(val_x,3)\n",
    "    val_x = (val_x*255).astype(np.uint8)\n",
    "    val_marker = (val_marker*255).astype(np.uint8)\n",
    "    val_border = (val_border*255).astype(np.uint8)\n",
    "    # 返回第二级学习器的输入(marker,,border,x)\n",
    "    val_x_new = np.concatenate((val_marker ,val_border, val_x), axis=3)\n",
    "    val_y = np.asarray(val_y)\n",
    "    val_y = (val_y*255).astype(np.uint8)\n",
    "    return val_y,val_x_new"
   ]
  },
  {
   "cell_type": "code",
   "execution_count": 8,
   "metadata": {
    "colab": {},
    "colab_type": "code",
    "executionInfo": {
     "elapsed": 391,
     "status": "ok",
     "timestamp": 1592387800179,
     "user": {
      "displayName": "Yichong Wang",
      "photoUrl": "",
      "userId": "10580894442079928862"
     },
     "user_tz": -480
    },
    "id": "1WyBYsfn594U"
   },
   "outputs": [],
   "source": [
    "def test(model, test_loader):  \n",
    "    tta_model = tta.SegmentationTTAWrapper(model, tta.aliases.d4_transform(), merge_mode='mean')\n",
    "    test_x = []\n",
    "    test_marker = []\n",
    "    test_border = []\n",
    "    device = torch.device('cuda' if torch.cuda.is_available() else 'cpu')\n",
    "    for i, X in enumerate(test_loader):\n",
    "        X = Variable(X).to(device)\n",
    "        X = X.float()\n",
    "        with torch.no_grad():\n",
    "          out = model(X)\n",
    "          out_prob1 = torch.sigmoid(out[:,0,:,:])\n",
    "          out_prob2 = torch.sigmoid(out[:,1,:,:])\n",
    "        y_marker, y_border = out_prob1.cpu().clone().numpy()[0,:,:], out_prob2.cpu().clone().numpy()[0,:,:]\n",
    "        x_real = X.cpu().clone().numpy()[0,0,:,:]\n",
    "        test_marker.append(y_marker)\n",
    "        test_border.append(y_border)\n",
    "        test_x.append(x_real)\n",
    "    test_marker = np.asarray(test_marker)\n",
    "    test_border = np.asarray(test_border)\n",
    "    test_x = np.asarray(test_x)\n",
    "    test_marker = np.expand_dims(test_marker,3)\n",
    "    test_border = np.expand_dims(test_border,3)\n",
    "    test_x = np.expand_dims(test_x,3)\n",
    "    test_x = (test_x*255).astype(np.uint8)\n",
    "    test_marker = (test_marker*255).astype(np.uint8)\n",
    "    test_border = (test_border*255).astype(np.uint8)\n",
    "    test_x_new = np.concatenate((test_marker, test_border, test_x), axis=3)\n",
    "    return test_x_new"
   ]
  },
  {
   "cell_type": "markdown",
   "metadata": {
    "colab_type": "text",
    "id": "cT9Yko72-x1L"
   },
   "source": [
    "## 第一级网络训练"
   ]
  },
  {
   "cell_type": "code",
   "execution_count": 9,
   "metadata": {
    "colab": {},
    "colab_type": "code",
    "executionInfo": {
     "elapsed": 164439,
     "status": "ok",
     "timestamp": 1592387967285,
     "user": {
      "displayName": "Yichong Wang",
      "photoUrl": "",
      "userId": "10580894442079928862"
     },
     "user_tz": -480
    },
    "id": "ibvsUZ1X594L"
   },
   "outputs": [],
   "source": [
    "n_fold = 5\n",
    "# 5折交叉验证\n",
    "folds=StratifiedKFold(n_splits=n_fold, shuffle=True, random_state=1)    \n",
    "BATCH_SIZE = 1\n",
    "test_dataset = MyDataSet(test_x, type='test')\n",
    "test_loader = DataLoader(test_dataset, batch_size=BATCH_SIZE, shuffle=False)\n",
    "# 存储第一级学习器的输出结果\n",
    "all_test_res = np.zeros((n_fold,test_x.shape[0],640,640,3))\n",
    "all_train_res = np.zeros((train_x.shape[0],640,640,3))\n",
    "all_train_real = np.zeros((train_y.shape[0],640,640,3))\n",
    "train_num = train_x.shape[0]\n",
    "split_x = np.ones((train_num, 10))\n",
    "split_y = np.ones((train_num, 1))\n",
    "fold = 0\n",
    "for train_idx, val_idx in folds.split(split_x, split_y):\n",
    "    train_x_data, val_x_data = train_x[train_idx], train_x[val_idx]\n",
    "    train_y_data, val_y_data = train_y[train_idx], train_y[val_idx]   \n",
    "    train_dataset = MyDataSet(train_x_data, train_y_data)\n",
    "    val_dataset = MyDataSet(val_x_data, val_y_data)\n",
    "    train_loader = DataLoader(train_dataset, batch_size=BATCH_SIZE, shuffle=True)\n",
    "    val_loader = DataLoader(val_dataset, batch_size=BATCH_SIZE, shuffle=False)\n",
    "    # 初始化模型\n",
    "    out_channel = 2\n",
    "    in_channel = 1\n",
    "    deep_supervision=False\n",
    "    # model = UNetPlusPlus(in_channel, out_channel, deep_supervision)\n",
    "    model = U_Net(in_channel,out_channel, 'UNet')\n",
    "    model = train_one_fold(model, train_loader, val_loader, in_channel, out_channel, fold)\n",
    "    model_name = 'model_unet_' + str(fold) + '.pkl'\n",
    "    model = torch.load(model_name)        \n",
    "    # 输出每一折验证集和测试集的结果\n",
    "    # 与最开始的输入拼接输入下一级模型\n",
    "    val_real,val_res = validation(model, val_loader)\n",
    "    test_res = test(model, test_loader)\n",
    "    all_train_res[val_idx,:,:,:] = val_res\n",
    "    all_train_real[val_idx,:,:,:] = val_real\n",
    "    all_test_res[fold] = test_res\n",
    "    fold += 1\n",
    "    # plt.figure()\n",
    "    # plt.imshow(all_train_res[val_idx[0],:,:,0])\n",
    "    # plt.figure()\n",
    "    # plt.imshow(all_train_res[val_idx[0],:,:,1])\n",
    "    # plt.figure()\n",
    "    # plt.imshow(all_train_real[val_idx[0],:,:,0])"
   ]
  },
  {
   "cell_type": "markdown",
   "metadata": {
    "colab_type": "text",
    "id": "_dWIqWLeur6x"
   },
   "source": [
    "## 第二级网络训练"
   ]
  },
  {
   "cell_type": "code",
   "execution_count": 10,
   "metadata": {
    "colab": {},
    "colab_type": "code",
    "executionInfo": {
     "elapsed": 1735,
     "status": "ok",
     "timestamp": 1592388001366,
     "user": {
      "displayName": "Yichong Wang",
      "photoUrl": "",
      "userId": "10580894442079928862"
     },
     "user_tz": -480
    },
    "id": "_CP0gpJvEYSm"
   },
   "outputs": [],
   "source": [
    "# stacking的第二级模型\n",
    "new_test_res = np.mean(all_test_res, axis=0)\n",
    "new_test_res = new_test_res.astype(np.uint8)\n",
    "new_train_res = all_train_res.astype(np.uint8)\n",
    "new_train_real = all_train_real.astype(np.uint8)\n",
    "# print(new_test_res.shape)\n",
    "# print(new_test_res.dtype)"
   ]
  },
  {
   "cell_type": "code",
   "execution_count": 11,
   "metadata": {
    "colab": {
     "base_uri": "https://localhost:8080/",
     "height": 84
    },
    "colab_type": "code",
    "executionInfo": {
     "elapsed": 546,
     "status": "ok",
     "timestamp": 1592388004278,
     "user": {
      "displayName": "Yichong Wang",
      "photoUrl": "",
      "userId": "10580894442079928862"
     },
     "user_tz": -480
    },
    "id": "FT9nzp7xw4ZP",
    "outputId": "9d4103fa-7fe2-484a-c03b-c7bfae6fd970"
   },
   "outputs": [
    {
     "name": "stdout",
     "output_type": "stream",
     "text": [
      "(175, 628, 628, 3)\n",
      "(175, 628, 628, 3)\n",
      "torch.Size([3, 640, 640])\n",
      "torch.Size([3, 640, 640])\n"
     ]
    }
   ],
   "source": [
    "second_train_x = new_train_res\n",
    "second_train_y = new_train_real\n",
    "second_test_x = new_test_res\n",
    "second_train_x2 = second_train_x[:,6:634,6:634,:]\n",
    "second_train_y2 = second_train_y[:,6:634,6:634,:]\n",
    "second_test_x2 = second_test_x[:,6:634,6:634,:]\n",
    "second_train = MyDataSet(second_train_x2, second_train_y2)\n",
    "print(second_train_x2.shape)\n",
    "print(second_train_y2.shape)\n",
    "second_train_dataset, second_val_dataset = random_split(second_train, [140, 35])\n",
    "second_train_loader = DataLoader(second_train_dataset, batch_size=BATCH_SIZE, shuffle=True)\n",
    "second_val_loader = DataLoader(second_val_dataset, batch_size=BATCH_SIZE, shuffle=False)\n",
    "second_test_dataset = MyDataSet(second_test_x2, type='test')\n",
    "second_test_loader = DataLoader(second_test_dataset, batch_size=BATCH_SIZE, shuffle=False)   \n",
    "# print(train_loader.dataset[0][1].shape)\n",
    "print(second_train_loader.dataset[0][1].shape)\n",
    "print(second_test_dataset[0].shape)"
   ]
  },
  {
   "cell_type": "code",
   "execution_count": 12,
   "metadata": {
    "colab": {
     "base_uri": "https://localhost:8080/",
     "height": 1000
    },
    "colab_type": "code",
    "executionInfo": {
     "elapsed": 2972125,
     "status": "ok",
     "timestamp": 1592390990823,
     "user": {
      "displayName": "Yichong Wang",
      "photoUrl": "",
      "userId": "10580894442079928862"
     },
     "user_tz": -480
    },
    "id": "M_sbmaUhkTcv",
    "outputId": "39976c5d-1b24-4d9a-97d2-a4d9e0c9640e"
   },
   "outputs": [
    {
     "name": "stderr",
     "output_type": "stream",
     "text": [
      "100%|██████████| 140/140 [03:01<00:00,  1.30s/it]\n",
      "100%|██████████| 35/35 [00:14<00:00,  2.45it/s]\n",
      "  0%|          | 0/140 [00:00<?, ?it/s]"
     ]
    },
    {
     "name": "stdout",
     "output_type": "stream",
     "text": [
      "epoch: 0\n",
      "lr: 0.0001\n",
      "train lose: 0.2970646969974041\n",
      "val lose: 0.2726823674780982\n",
      "val js: 0.7521620061305155\n"
     ]
    },
    {
     "name": "stderr",
     "output_type": "stream",
     "text": [
      "100%|██████████| 140/140 [03:00<00:00,  1.29s/it]\n",
      "100%|██████████| 35/35 [00:14<00:00,  2.47it/s]\n",
      "  0%|          | 0/140 [00:00<?, ?it/s]"
     ]
    },
    {
     "name": "stdout",
     "output_type": "stream",
     "text": [
      "epoch: 1\n",
      "lr: 0.0001\n",
      "train lose: 0.22582335365670067\n",
      "val lose: 0.24218281166894096\n",
      "val js: 0.7509808395745072\n"
     ]
    },
    {
     "name": "stderr",
     "output_type": "stream",
     "text": [
      "100%|██████████| 140/140 [03:00<00:00,  1.29s/it]\n",
      "100%|██████████| 35/35 [00:14<00:00,  2.45it/s]\n",
      "  0%|          | 0/140 [00:00<?, ?it/s]"
     ]
    },
    {
     "name": "stdout",
     "output_type": "stream",
     "text": [
      "epoch: 2\n",
      "lr: 0.0001\n",
      "train lose: 0.19924843880747045\n",
      "val lose: 0.21591663190296717\n",
      "val js: 0.7623311819647708\n"
     ]
    },
    {
     "name": "stderr",
     "output_type": "stream",
     "text": [
      "100%|██████████| 140/140 [03:00<00:00,  1.29s/it]\n",
      "100%|██████████| 35/35 [00:14<00:00,  2.45it/s]\n",
      "  0%|          | 0/140 [00:00<?, ?it/s]"
     ]
    },
    {
     "name": "stdout",
     "output_type": "stream",
     "text": [
      "epoch: 3\n",
      "lr: 0.0001\n",
      "train lose: 0.18050244679408414\n",
      "val lose: 0.20722811009202685\n",
      "val js: 0.7547981478752256\n"
     ]
    },
    {
     "name": "stderr",
     "output_type": "stream",
     "text": [
      "100%|██████████| 140/140 [03:01<00:00,  1.29s/it]\n",
      "100%|██████████| 35/35 [00:14<00:00,  2.44it/s]\n",
      "  0%|          | 0/140 [00:00<?, ?it/s]"
     ]
    },
    {
     "name": "stdout",
     "output_type": "stream",
     "text": [
      "epoch: 4\n",
      "lr: 0.0001\n",
      "train lose: 0.16727369230772768\n",
      "val lose: 0.1947969057730266\n",
      "val js: 0.7615128725177226\n"
     ]
    },
    {
     "name": "stderr",
     "output_type": "stream",
     "text": [
      "100%|██████████| 140/140 [03:00<00:00,  1.29s/it]\n",
      "100%|██████████| 35/35 [00:14<00:00,  2.44it/s]\n",
      "  0%|          | 0/140 [00:00<?, ?it/s]"
     ]
    },
    {
     "name": "stdout",
     "output_type": "stream",
     "text": [
      "epoch: 5\n",
      "lr: 0.0001\n",
      "train lose: 0.15864708950476988\n",
      "val lose: 0.18940532484224865\n",
      "val js: 0.7609746903405125\n"
     ]
    },
    {
     "name": "stderr",
     "output_type": "stream",
     "text": [
      "100%|██████████| 140/140 [03:00<00:00,  1.29s/it]\n",
      "100%|██████████| 35/35 [00:14<00:00,  2.46it/s]\n",
      "  0%|          | 0/140 [00:00<?, ?it/s]"
     ]
    },
    {
     "name": "stdout",
     "output_type": "stream",
     "text": [
      "epoch: 6\n",
      "lr: 0.0001\n",
      "train lose: 0.15026943981647492\n",
      "val lose: 0.17468799012047903\n",
      "val js: 0.7720535762821994\n"
     ]
    },
    {
     "name": "stderr",
     "output_type": "stream",
     "text": [
      "100%|██████████| 140/140 [03:00<00:00,  1.29s/it]\n",
      "100%|██████████| 35/35 [00:14<00:00,  2.47it/s]\n",
      "  0%|          | 0/140 [00:00<?, ?it/s]"
     ]
    },
    {
     "name": "stdout",
     "output_type": "stream",
     "text": [
      "epoch: 7\n",
      "lr: 0.0001\n",
      "train lose: 0.14570571519434453\n",
      "val lose: 0.17557172221796855\n",
      "val js: 0.7632428454337697\n"
     ]
    },
    {
     "name": "stderr",
     "output_type": "stream",
     "text": [
      "100%|██████████| 140/140 [03:00<00:00,  1.29s/it]\n",
      "100%|██████████| 35/35 [00:14<00:00,  2.44it/s]\n",
      "  0%|          | 0/140 [00:00<?, ?it/s]"
     ]
    },
    {
     "name": "stdout",
     "output_type": "stream",
     "text": [
      "epoch: 8\n",
      "lr: 0.0001\n",
      "train lose: 0.14150942441608225\n",
      "val lose: 0.16819551225219453\n",
      "val js: 0.7695389162217575\n"
     ]
    },
    {
     "name": "stderr",
     "output_type": "stream",
     "text": [
      "100%|██████████| 140/140 [03:00<00:00,  1.29s/it]\n",
      "100%|██████████| 35/35 [00:14<00:00,  2.45it/s]\n",
      "  0%|          | 0/140 [00:00<?, ?it/s]"
     ]
    },
    {
     "name": "stdout",
     "output_type": "stream",
     "text": [
      "epoch: 9\n",
      "lr: 0.0001\n",
      "train lose: 0.13894191857959542\n",
      "val lose: 0.16081932080643518\n",
      "val js: 0.7773438962375274\n"
     ]
    },
    {
     "name": "stderr",
     "output_type": "stream",
     "text": [
      "100%|██████████| 140/140 [03:00<00:00,  1.29s/it]\n",
      "100%|██████████| 35/35 [00:14<00:00,  2.44it/s]\n",
      "  0%|          | 0/140 [00:00<?, ?it/s]"
     ]
    },
    {
     "name": "stdout",
     "output_type": "stream",
     "text": [
      "epoch: 10\n",
      "lr: 0.0001\n",
      "train lose: 0.13542745632252523\n",
      "val lose: 0.1966484323143959\n",
      "val js: 0.7246185679194065\n"
     ]
    },
    {
     "name": "stderr",
     "output_type": "stream",
     "text": [
      "100%|██████████| 140/140 [03:00<00:00,  1.29s/it]\n",
      "100%|██████████| 35/35 [00:14<00:00,  2.43it/s]\n",
      "  0%|          | 0/140 [00:00<?, ?it/s]"
     ]
    },
    {
     "name": "stdout",
     "output_type": "stream",
     "text": [
      "epoch: 11\n",
      "lr: 0.0001\n",
      "train lose: 0.13370106808309043\n",
      "val lose: 0.16052595696278982\n",
      "val js: 0.7733693982184698\n"
     ]
    },
    {
     "name": "stderr",
     "output_type": "stream",
     "text": [
      "100%|██████████| 140/140 [03:01<00:00,  1.29s/it]\n",
      "100%|██████████| 35/35 [00:14<00:00,  2.44it/s]\n",
      "  0%|          | 0/140 [00:00<?, ?it/s]"
     ]
    },
    {
     "name": "stdout",
     "output_type": "stream",
     "text": [
      "epoch: 12\n",
      "lr: 0.0001\n",
      "train lose: 0.13176092790173632\n",
      "val lose: 0.165105282834598\n",
      "val js: 0.76354379632912\n"
     ]
    },
    {
     "name": "stderr",
     "output_type": "stream",
     "text": [
      "100%|██████████| 140/140 [03:00<00:00,  1.29s/it]\n",
      "100%|██████████| 35/35 [00:14<00:00,  2.45it/s]\n",
      "  0%|          | 0/140 [00:00<?, ?it/s]"
     ]
    },
    {
     "name": "stdout",
     "output_type": "stream",
     "text": [
      "epoch: 13\n",
      "lr: 1e-05\n",
      "train lose: 0.1307175007781812\n",
      "val lose: 0.16344931913273675\n",
      "val js: 0.7654474075839768\n"
     ]
    },
    {
     "name": "stderr",
     "output_type": "stream",
     "text": [
      "100%|██████████| 140/140 [03:00<00:00,  1.29s/it]\n",
      "100%|██████████| 35/35 [00:14<00:00,  2.47it/s]\n"
     ]
    },
    {
     "name": "stdout",
     "output_type": "stream",
     "text": [
      "epoch: 14\n",
      "lr: 1e-05\n",
      "train lose: 0.12552042143153294\n",
      "val lose: 0.15881217143365314\n",
      "val js: 0.7719109611496124\n",
      "(33, 640, 640, 3)\n"
     ]
    }
   ],
   "source": [
    "# # 训练第二级的U-net\n",
    "model2 = U_Net(3,2, 'UNet')\n",
    "# model2 = UNetPlusPlus(3, 2, False)\n",
    "model2 = train_one_fold(model2, second_train_loader, second_val_loader, in_channel=2, out_channel=2, fold=6)\n",
    "\n",
    "model_name = 'model_unet_6.pkl'\n",
    "model2 = torch.load(model_name)\n",
    "val_real, val_out = validation(model2, second_val_loader)\n",
    "test_out = test(model2, second_test_loader)\n",
    "print(test_out.shape)"
   ]
  }
 ],
 "metadata": {
  "accelerator": "GPU",
  "colab": {
   "collapsed_sections": [],
   "name": "Segmentation3.0.ipynb",
   "provenance": []
  },
  "kernelspec": {
   "display_name": "Python 3",
   "language": "python",
   "name": "python3"
  },
  "language_info": {
   "codemirror_mode": {
    "name": "ipython",
    "version": 3
   },
   "file_extension": ".py",
   "mimetype": "text/x-python",
   "name": "python",
   "nbconvert_exporter": "python",
   "pygments_lexer": "ipython3",
   "version": "3.7.7"
  }
 },
 "nbformat": 4,
 "nbformat_minor": 1
}
