{
 "cells": [
  {
   "cell_type": "code",
   "execution_count": 1,
   "metadata": {
    "colab": {
     "base_uri": "https://localhost:8080/",
     "height": 33
    },
    "colab_type": "code",
    "executionInfo": {
     "elapsed": 1797,
     "status": "ok",
     "timestamp": 1592377993159,
     "user": {
      "displayName": "Yichong Wang",
      "photoUrl": "",
      "userId": "10580894442079928862"
     },
     "user_tz": -480
    },
    "id": "k4sxKnGiur6f",
    "outputId": "3746816a-74d3-482b-89bc-c14518d384e5"
   },
   "outputs": [
    {
     "name": "stdout",
     "output_type": "stream",
     "text": [
      "Drive already mounted at /content/gdrive; to attempt to forcibly remount, call drive.mount(\"/content/gdrive\", force_remount=True).\n"
     ]
    }
   ],
   "source": [
    "from google.colab import drive\n",
    "drive.mount('/content/gdrive')"
   ]
  },
  {
   "cell_type": "code",
   "execution_count": 2,
   "metadata": {
    "colab": {
     "base_uri": "https://localhost:8080/",
     "height": 33
    },
    "colab_type": "code",
    "executionInfo": {
     "elapsed": 5607,
     "status": "ok",
     "timestamp": 1592377996976,
     "user": {
      "displayName": "Yichong Wang",
      "photoUrl": "",
      "userId": "10580894442079928862"
     },
     "user_tz": -480
    },
    "id": "ROlFS6NOur6j",
    "outputId": "6aa2cb26-d448-4f89-f4a9-e2e501e76fd2"
   },
   "outputs": [
    {
     "name": "stdout",
     "output_type": "stream",
     "text": [
      "Requirement already satisfied: ttach in /usr/local/lib/python3.6/dist-packages (0.0.2)\n"
     ]
    }
   ],
   "source": [
    "import os\n",
    "os.chdir(\"/content/gdrive/My Drive/wzk/seg2\")\n",
    "!pip install ttach\n",
    "# !pip install git+https://github.com/qubvel/segmentation_models.pytorch"
   ]
  },
  {
   "cell_type": "markdown",
   "metadata": {
    "colab_type": "text",
    "id": "iqaFSA3hur6l"
   },
   "source": [
    "## 引入相关库"
   ]
  },
  {
   "cell_type": "code",
   "execution_count": 3,
   "metadata": {
    "colab": {},
    "colab_type": "code",
    "executionInfo": {
     "elapsed": 6592,
     "status": "ok",
     "timestamp": 1592377997967,
     "user": {
      "displayName": "Yichong Wang",
      "photoUrl": "",
      "userId": "10580894442079928862"
     },
     "user_tz": -480
    },
    "id": "G0VVMe0Lur6m"
   },
   "outputs": [],
   "source": [
    "import numpy as np\n",
    "from PIL import Image\n",
    "import matplotlib.pyplot as plt\n",
    "from torch.utils.data import DataLoader, random_split\n",
    "from torchvision import transforms\n",
    "from torch.autograd import Variable\n",
    "import torch.optim as optim\n",
    "from torchsummary import summary\n",
    "import torch.nn as nn\n",
    "import torch\n",
    "from torch.utils.data import Dataset\n",
    "import torchvision.transforms.functional as tf\n",
    "from losses import *\n",
    "from utils import *\n",
    "from UNet import *\n",
    "from UNetplusplus import *\n",
    "from tqdm import tqdm\n",
    "from sklearn.model_selection import StratifiedKFold\n",
    "# import segmentation_models_pytorch as smp\n",
    "import ttach as tta\n",
    "import random"
   ]
  },
  {
   "cell_type": "markdown",
   "metadata": {
    "colab_type": "text",
    "id": "1HqLDtON0JbG"
   },
   "source": [
    "## 随机数种子"
   ]
  },
  {
   "cell_type": "code",
   "execution_count": 4,
   "metadata": {
    "colab": {},
    "colab_type": "code",
    "executionInfo": {
     "elapsed": 6588,
     "status": "ok",
     "timestamp": 1592377997967,
     "user": {
      "displayName": "Yichong Wang",
      "photoUrl": "",
      "userId": "10580894442079928862"
     },
     "user_tz": -480
    },
    "id": "HI2424MhrxwZ"
   },
   "outputs": [],
   "source": [
    "# 设置随机数种子\n",
    "def setup_seed(seed):\n",
    "  torch.manual_seed(seed)\n",
    "  torch.cuda.manual_seed_all(seed)\n",
    "  np.random.seed(seed)\n",
    "  random.seed(seed)\n",
    "  torch.backends.cudnn.deterministic = True\n",
    "seed = 1024\n",
    "setup_seed(seed)"
   ]
  },
  {
   "cell_type": "markdown",
   "metadata": {
    "colab_type": "text",
    "id": "uE2imUugur6o"
   },
   "source": [
    "## 读取数据"
   ]
  },
  {
   "cell_type": "code",
   "execution_count": 5,
   "metadata": {
    "colab": {
     "base_uri": "https://localhost:8080/",
     "height": 50
    },
    "colab_type": "code",
    "executionInfo": {
     "elapsed": 16776,
     "status": "ok",
     "timestamp": 1592378008160,
     "user": {
      "displayName": "Yichong Wang",
      "photoUrl": "",
      "userId": "10580894442079928862"
     },
     "user_tz": -480
    },
    "id": "b8lVR4vlur6o",
    "outputId": "40ee1393-7cee-4ec2-dbfb-3317dc88cbe8"
   },
   "outputs": [
    {
     "name": "stderr",
     "output_type": "stream",
     "text": [
      "100%|██████████| 168/168 [00:10<00:00, 16.12it/s]\n",
      "100%|██████████| 6/6 [00:00<00:00, 299.95it/s]\n"
     ]
    }
   ],
   "source": [
    "# 读取数据\n",
    "train_x_path = './supplementary_modify/dataset2/train1/'\n",
    "train_y_path = './supplementary_modify/dataset2/train_GT1/'\n",
    "test_x_path = './supplementary_modify/dataset2/test/'\n",
    "train_x = []\n",
    "train_y = []\n",
    "test_x = []\n",
    "filename_train_x = os.listdir(train_x_path)\n",
    "train_num = len(filename_train_x)\n",
    "for i in tqdm(range(train_num)):\n",
    "    filename = filename_train_x[i]\n",
    "    img = cv2.imread(train_x_path + filename, -1)\n",
    "    img = img_standardization(img)\n",
    "    train_x.append(img)\n",
    "    filename2 = 'man_seg' + filename[1:]\n",
    "    img_label = cv2.imread(train_y_path + filename2, -1)\n",
    "    img_mask = generate_mask2(img_label)\n",
    "    train_y.append(img_mask)\n",
    "filename_test_x = os.listdir(test_x_path)\n",
    "filename_test_x.sort()\n",
    "test_num = len(filename_test_x)\n",
    "for i in tqdm(range(test_num)):\n",
    "    filename = filename_test_x[i]\n",
    "    img_test = cv2.imread(test_x_path + filename, -1)\n",
    "    img_test = img_standardization(img_test)\n",
    "    test_x.append(img_test)\n",
    "train_x = np.asarray(train_x)\n",
    "train_y = np.asarray(train_y)\n",
    "test_x = np.asarray(test_x)"
   ]
  },
  {
   "cell_type": "markdown",
   "metadata": {
    "colab_type": "text",
    "id": "Ez07wNZnur6r"
   },
   "source": [
    " ## 数据处理"
   ]
  },
  {
   "cell_type": "code",
   "execution_count": 6,
   "metadata": {
    "colab": {
     "base_uri": "https://localhost:8080/",
     "height": 33
    },
    "colab_type": "code",
    "executionInfo": {
     "elapsed": 16770,
     "status": "ok",
     "timestamp": 1592378008160,
     "user": {
      "displayName": "Yichong Wang",
      "photoUrl": "",
      "userId": "10580894442079928862"
     },
     "user_tz": -480
    },
    "id": "C8FlNIyKur6s",
    "outputId": "9793d749-8089-48f1-9360-6ce521e24b1a"
   },
   "outputs": [
    {
     "name": "stdout",
     "output_type": "stream",
     "text": [
      "torch.Size([1, 512, 512])\n"
     ]
    }
   ],
   "source": [
    "# 划分训练集和验证集\n",
    "BATCH_SIZE = 1\n",
    "sample_num = train_x.shape[0] #样本数量\n",
    "pic_size = train_x.shape[1]\n",
    "train_num = int(sample_num*0.85)\n",
    "val_num = int(sample_num - train_num)\n",
    "\n",
    "train_data = MyDataSet(train_x, train_y)\n",
    "test_data = MyDataSet(test_x, type='test')\n",
    "train, val = random_split(train_data, [train_num, val_num])\n",
    "train_loader = DataLoader(train, batch_size=BATCH_SIZE, shuffle=True)\n",
    "val_loader = DataLoader(val, batch_size=BATCH_SIZE, shuffle=False)\n",
    "test_loader = DataLoader(test_data, batch_size=BATCH_SIZE, shuffle=False)\n",
    "print(train_data[0][0].shape)"
   ]
  },
  {
   "cell_type": "markdown",
   "metadata": {
    "colab_type": "text",
    "id": "vOYnCCxCur6u"
   },
   "source": [
    "## 超参数设置"
   ]
  },
  {
   "cell_type": "code",
   "execution_count": 7,
   "metadata": {
    "colab": {
     "base_uri": "https://localhost:8080/",
     "height": 1000
    },
    "colab_type": "code",
    "executionInfo": {
     "elapsed": 20452,
     "status": "ok",
     "timestamp": 1592378011848,
     "user": {
      "displayName": "Yichong Wang",
      "photoUrl": "",
      "userId": "10580894442079928862"
     },
     "user_tz": -480
    },
    "id": "I_NKfV4mur6u",
    "outputId": "f06beec4-eea9-4f21-a92d-15a597aec2a1"
   },
   "outputs": [
    {
     "name": "stdout",
     "output_type": "stream",
     "text": [
      "----------------------------------------------------------------\n",
      "        Layer (type)               Output Shape         Param #\n",
      "================================================================\n",
      "            Conv2d-1         [-1, 64, 512, 512]             640\n",
      "       BatchNorm2d-2         [-1, 64, 512, 512]             128\n",
      "              ReLU-3         [-1, 64, 512, 512]               0\n",
      "            Conv2d-4         [-1, 64, 512, 512]          36,928\n",
      "       BatchNorm2d-5         [-1, 64, 512, 512]             128\n",
      "              ReLU-6         [-1, 64, 512, 512]               0\n",
      "          ConvCell-7         [-1, 64, 512, 512]               0\n",
      "         MaxPool2d-8         [-1, 64, 256, 256]               0\n",
      "            Conv2d-9         [-1, 64, 256, 256]          36,864\n",
      "      BatchNorm2d-10         [-1, 64, 256, 256]             128\n",
      "             ReLU-11         [-1, 64, 256, 256]               0\n",
      "           Conv2d-12         [-1, 64, 256, 256]          36,864\n",
      "      BatchNorm2d-13         [-1, 64, 256, 256]             128\n",
      "             ReLU-14         [-1, 64, 256, 256]               0\n",
      "       BasicBlock-15         [-1, 64, 256, 256]               0\n",
      "           Conv2d-16         [-1, 64, 256, 256]          36,864\n",
      "      BatchNorm2d-17         [-1, 64, 256, 256]             128\n",
      "             ReLU-18         [-1, 64, 256, 256]               0\n",
      "           Conv2d-19         [-1, 64, 256, 256]          36,864\n",
      "      BatchNorm2d-20         [-1, 64, 256, 256]             128\n",
      "             ReLU-21         [-1, 64, 256, 256]               0\n",
      "       BasicBlock-22         [-1, 64, 256, 256]               0\n",
      "           Conv2d-23         [-1, 64, 256, 256]          36,864\n",
      "      BatchNorm2d-24         [-1, 64, 256, 256]             128\n",
      "             ReLU-25         [-1, 64, 256, 256]               0\n",
      "           Conv2d-26         [-1, 64, 256, 256]          36,864\n",
      "      BatchNorm2d-27         [-1, 64, 256, 256]             128\n",
      "             ReLU-28         [-1, 64, 256, 256]               0\n",
      "       BasicBlock-29         [-1, 64, 256, 256]               0\n",
      "           Conv2d-30        [-1, 128, 128, 128]          73,728\n",
      "      BatchNorm2d-31        [-1, 128, 128, 128]             256\n",
      "             ReLU-32        [-1, 128, 128, 128]               0\n",
      "           Conv2d-33        [-1, 128, 128, 128]         147,456\n",
      "      BatchNorm2d-34        [-1, 128, 128, 128]             256\n",
      "           Conv2d-35        [-1, 128, 128, 128]           8,192\n",
      "      BatchNorm2d-36        [-1, 128, 128, 128]             256\n",
      "             ReLU-37        [-1, 128, 128, 128]               0\n",
      "       BasicBlock-38        [-1, 128, 128, 128]               0\n",
      "           Conv2d-39        [-1, 128, 128, 128]         147,456\n",
      "      BatchNorm2d-40        [-1, 128, 128, 128]             256\n",
      "             ReLU-41        [-1, 128, 128, 128]               0\n",
      "           Conv2d-42        [-1, 128, 128, 128]         147,456\n",
      "      BatchNorm2d-43        [-1, 128, 128, 128]             256\n",
      "             ReLU-44        [-1, 128, 128, 128]               0\n",
      "       BasicBlock-45        [-1, 128, 128, 128]               0\n",
      "           Conv2d-46        [-1, 128, 128, 128]         147,456\n",
      "      BatchNorm2d-47        [-1, 128, 128, 128]             256\n",
      "             ReLU-48        [-1, 128, 128, 128]               0\n",
      "           Conv2d-49        [-1, 128, 128, 128]         147,456\n",
      "      BatchNorm2d-50        [-1, 128, 128, 128]             256\n",
      "             ReLU-51        [-1, 128, 128, 128]               0\n",
      "       BasicBlock-52        [-1, 128, 128, 128]               0\n",
      "           Conv2d-53        [-1, 128, 128, 128]         147,456\n",
      "      BatchNorm2d-54        [-1, 128, 128, 128]             256\n",
      "             ReLU-55        [-1, 128, 128, 128]               0\n",
      "           Conv2d-56        [-1, 128, 128, 128]         147,456\n",
      "      BatchNorm2d-57        [-1, 128, 128, 128]             256\n",
      "             ReLU-58        [-1, 128, 128, 128]               0\n",
      "       BasicBlock-59        [-1, 128, 128, 128]               0\n",
      "           Conv2d-60          [-1, 256, 64, 64]         294,912\n",
      "      BatchNorm2d-61          [-1, 256, 64, 64]             512\n",
      "             ReLU-62          [-1, 256, 64, 64]               0\n",
      "           Conv2d-63          [-1, 256, 64, 64]         589,824\n",
      "      BatchNorm2d-64          [-1, 256, 64, 64]             512\n",
      "           Conv2d-65          [-1, 256, 64, 64]          32,768\n",
      "      BatchNorm2d-66          [-1, 256, 64, 64]             512\n",
      "             ReLU-67          [-1, 256, 64, 64]               0\n",
      "       BasicBlock-68          [-1, 256, 64, 64]               0\n",
      "           Conv2d-69          [-1, 256, 64, 64]         589,824\n",
      "      BatchNorm2d-70          [-1, 256, 64, 64]             512\n",
      "             ReLU-71          [-1, 256, 64, 64]               0\n",
      "           Conv2d-72          [-1, 256, 64, 64]         589,824\n",
      "      BatchNorm2d-73          [-1, 256, 64, 64]             512\n",
      "             ReLU-74          [-1, 256, 64, 64]               0\n",
      "       BasicBlock-75          [-1, 256, 64, 64]               0\n",
      "           Conv2d-76          [-1, 256, 64, 64]         589,824\n",
      "      BatchNorm2d-77          [-1, 256, 64, 64]             512\n",
      "             ReLU-78          [-1, 256, 64, 64]               0\n",
      "           Conv2d-79          [-1, 256, 64, 64]         589,824\n",
      "      BatchNorm2d-80          [-1, 256, 64, 64]             512\n",
      "             ReLU-81          [-1, 256, 64, 64]               0\n",
      "       BasicBlock-82          [-1, 256, 64, 64]               0\n",
      "           Conv2d-83          [-1, 256, 64, 64]         589,824\n",
      "      BatchNorm2d-84          [-1, 256, 64, 64]             512\n",
      "             ReLU-85          [-1, 256, 64, 64]               0\n",
      "           Conv2d-86          [-1, 256, 64, 64]         589,824\n",
      "      BatchNorm2d-87          [-1, 256, 64, 64]             512\n",
      "             ReLU-88          [-1, 256, 64, 64]               0\n",
      "       BasicBlock-89          [-1, 256, 64, 64]               0\n",
      "           Conv2d-90          [-1, 256, 64, 64]         589,824\n",
      "      BatchNorm2d-91          [-1, 256, 64, 64]             512\n",
      "             ReLU-92          [-1, 256, 64, 64]               0\n",
      "           Conv2d-93          [-1, 256, 64, 64]         589,824\n",
      "      BatchNorm2d-94          [-1, 256, 64, 64]             512\n",
      "             ReLU-95          [-1, 256, 64, 64]               0\n",
      "       BasicBlock-96          [-1, 256, 64, 64]               0\n",
      "           Conv2d-97          [-1, 256, 64, 64]         589,824\n",
      "      BatchNorm2d-98          [-1, 256, 64, 64]             512\n",
      "             ReLU-99          [-1, 256, 64, 64]               0\n",
      "          Conv2d-100          [-1, 256, 64, 64]         589,824\n",
      "     BatchNorm2d-101          [-1, 256, 64, 64]             512\n",
      "            ReLU-102          [-1, 256, 64, 64]               0\n",
      "      BasicBlock-103          [-1, 256, 64, 64]               0\n",
      "          Conv2d-104          [-1, 512, 32, 32]       1,179,648\n",
      "     BatchNorm2d-105          [-1, 512, 32, 32]           1,024\n",
      "            ReLU-106          [-1, 512, 32, 32]               0\n",
      "          Conv2d-107          [-1, 512, 32, 32]       2,359,296\n",
      "     BatchNorm2d-108          [-1, 512, 32, 32]           1,024\n",
      "          Conv2d-109          [-1, 512, 32, 32]         131,072\n",
      "     BatchNorm2d-110          [-1, 512, 32, 32]           1,024\n",
      "            ReLU-111          [-1, 512, 32, 32]               0\n",
      "      BasicBlock-112          [-1, 512, 32, 32]               0\n",
      "          Conv2d-113          [-1, 512, 32, 32]       2,359,296\n",
      "     BatchNorm2d-114          [-1, 512, 32, 32]           1,024\n",
      "            ReLU-115          [-1, 512, 32, 32]               0\n",
      "          Conv2d-116          [-1, 512, 32, 32]       2,359,296\n",
      "     BatchNorm2d-117          [-1, 512, 32, 32]           1,024\n",
      "            ReLU-118          [-1, 512, 32, 32]               0\n",
      "      BasicBlock-119          [-1, 512, 32, 32]               0\n",
      "          Conv2d-120          [-1, 512, 32, 32]       2,359,296\n",
      "     BatchNorm2d-121          [-1, 512, 32, 32]           1,024\n",
      "            ReLU-122          [-1, 512, 32, 32]               0\n",
      "          Conv2d-123          [-1, 512, 32, 32]       2,359,296\n",
      "     BatchNorm2d-124          [-1, 512, 32, 32]           1,024\n",
      "            ReLU-125          [-1, 512, 32, 32]               0\n",
      "      BasicBlock-126          [-1, 512, 32, 32]               0\n",
      "        Upsample-127         [-1, 64, 512, 512]               0\n",
      "          Conv2d-128         [-1, 64, 512, 512]          73,792\n",
      "     BatchNorm2d-129         [-1, 64, 512, 512]             128\n",
      "            ReLU-130         [-1, 64, 512, 512]               0\n",
      "          Conv2d-131         [-1, 64, 512, 512]          36,928\n",
      "     BatchNorm2d-132         [-1, 64, 512, 512]             128\n",
      "            ReLU-133         [-1, 64, 512, 512]               0\n",
      "        ConvCell-134         [-1, 64, 512, 512]               0\n",
      "        Upsample-135        [-1, 128, 256, 256]               0\n",
      "          Conv2d-136         [-1, 64, 256, 256]         110,656\n",
      "     BatchNorm2d-137         [-1, 64, 256, 256]             128\n",
      "            ReLU-138         [-1, 64, 256, 256]               0\n",
      "          Conv2d-139         [-1, 64, 256, 256]          36,928\n",
      "     BatchNorm2d-140         [-1, 64, 256, 256]             128\n",
      "            ReLU-141         [-1, 64, 256, 256]               0\n",
      "        ConvCell-142         [-1, 64, 256, 256]               0\n",
      "        Upsample-143         [-1, 64, 512, 512]               0\n",
      "          Conv2d-144         [-1, 64, 512, 512]         110,656\n",
      "     BatchNorm2d-145         [-1, 64, 512, 512]             128\n",
      "            ReLU-146         [-1, 64, 512, 512]               0\n",
      "          Conv2d-147         [-1, 64, 512, 512]          36,928\n",
      "     BatchNorm2d-148         [-1, 64, 512, 512]             128\n",
      "            ReLU-149         [-1, 64, 512, 512]               0\n",
      "        ConvCell-150         [-1, 64, 512, 512]               0\n",
      "        Upsample-151        [-1, 256, 128, 128]               0\n",
      "          Conv2d-152        [-1, 128, 128, 128]         442,496\n",
      "     BatchNorm2d-153        [-1, 128, 128, 128]             256\n",
      "            ReLU-154        [-1, 128, 128, 128]               0\n",
      "          Conv2d-155        [-1, 128, 128, 128]         147,584\n",
      "     BatchNorm2d-156        [-1, 128, 128, 128]             256\n",
      "            ReLU-157        [-1, 128, 128, 128]               0\n",
      "        ConvCell-158        [-1, 128, 128, 128]               0\n",
      "        Upsample-159        [-1, 128, 256, 256]               0\n",
      "          Conv2d-160         [-1, 64, 256, 256]         147,520\n",
      "     BatchNorm2d-161         [-1, 64, 256, 256]             128\n",
      "            ReLU-162         [-1, 64, 256, 256]               0\n",
      "          Conv2d-163         [-1, 64, 256, 256]          36,928\n",
      "     BatchNorm2d-164         [-1, 64, 256, 256]             128\n",
      "            ReLU-165         [-1, 64, 256, 256]               0\n",
      "        ConvCell-166         [-1, 64, 256, 256]               0\n",
      "        Upsample-167         [-1, 64, 512, 512]               0\n",
      "          Conv2d-168         [-1, 64, 512, 512]         147,520\n",
      "     BatchNorm2d-169         [-1, 64, 512, 512]             128\n",
      "            ReLU-170         [-1, 64, 512, 512]               0\n",
      "          Conv2d-171         [-1, 64, 512, 512]          36,928\n",
      "     BatchNorm2d-172         [-1, 64, 512, 512]             128\n",
      "            ReLU-173         [-1, 64, 512, 512]               0\n",
      "        ConvCell-174         [-1, 64, 512, 512]               0\n",
      "        Upsample-175          [-1, 512, 64, 64]               0\n",
      "          Conv2d-176          [-1, 256, 64, 64]       1,769,728\n",
      "     BatchNorm2d-177          [-1, 256, 64, 64]             512\n",
      "            ReLU-178          [-1, 256, 64, 64]               0\n",
      "          Conv2d-179          [-1, 256, 64, 64]         590,080\n",
      "     BatchNorm2d-180          [-1, 256, 64, 64]             512\n",
      "            ReLU-181          [-1, 256, 64, 64]               0\n",
      "        ConvCell-182          [-1, 256, 64, 64]               0\n",
      "        Upsample-183        [-1, 256, 128, 128]               0\n",
      "          Conv2d-184        [-1, 128, 128, 128]         589,952\n",
      "     BatchNorm2d-185        [-1, 128, 128, 128]             256\n",
      "            ReLU-186        [-1, 128, 128, 128]               0\n",
      "          Conv2d-187        [-1, 128, 128, 128]         147,584\n",
      "     BatchNorm2d-188        [-1, 128, 128, 128]             256\n",
      "            ReLU-189        [-1, 128, 128, 128]               0\n",
      "        ConvCell-190        [-1, 128, 128, 128]               0\n",
      "        Upsample-191        [-1, 128, 256, 256]               0\n",
      "          Conv2d-192         [-1, 64, 256, 256]         184,384\n",
      "     BatchNorm2d-193         [-1, 64, 256, 256]             128\n",
      "            ReLU-194         [-1, 64, 256, 256]               0\n",
      "          Conv2d-195         [-1, 64, 256, 256]          36,928\n",
      "     BatchNorm2d-196         [-1, 64, 256, 256]             128\n",
      "            ReLU-197         [-1, 64, 256, 256]               0\n",
      "        ConvCell-198         [-1, 64, 256, 256]               0\n",
      "        Upsample-199         [-1, 64, 512, 512]               0\n",
      "          Conv2d-200         [-1, 64, 512, 512]         184,384\n",
      "     BatchNorm2d-201         [-1, 64, 512, 512]             128\n",
      "            ReLU-202         [-1, 64, 512, 512]               0\n",
      "          Conv2d-203         [-1, 64, 512, 512]          36,928\n",
      "     BatchNorm2d-204         [-1, 64, 512, 512]             128\n",
      "            ReLU-205         [-1, 64, 512, 512]               0\n",
      "        ConvCell-206         [-1, 64, 512, 512]               0\n",
      "          Conv2d-207          [-1, 2, 512, 512]             130\n",
      "================================================================\n",
      "Total params: 26,221,762\n",
      "Trainable params: 26,221,762\n",
      "Non-trainable params: 0\n",
      "----------------------------------------------------------------\n",
      "Input size (MB): 1.00\n",
      "Forward/backward pass size (MB): 7848.00\n",
      "Params size (MB): 100.03\n",
      "Estimated Total Size (MB): 7949.03\n",
      "----------------------------------------------------------------\n"
     ]
    }
   ],
   "source": [
    "# 超参数设置\n",
    "lr = 0.0001\n",
    "device = torch.device('cuda' if torch.cuda.is_available() else 'cpu')\n",
    "out_channel = 2\n",
    "in_channel = 1\n",
    "deep_supervision=False\n",
    "model = UNetPlusPlus(in_channel, out_channel, deep_supervision)\n",
    "# model.apply(init_weights)\n",
    "model = model.to(device)\n",
    "summary(model, input_size=(1, 512, 512))\n",
    "optimizer = optim.Adam(model.parameters(),lr=lr)\n",
    "# loss = nn.BCEWithLogitsLoss()\n",
    "# loss = FocalDiceLoss(0.25, 2)\n",
    "loss = BCEDiceLoss()\n",
    "# loss 停止下降时改变学习率\n",
    "scheduler = optim.lr_scheduler.ReduceLROnPlateau(optimizer, 'max', patience=3)\n",
    "num_epochs = 10\n"
   ]
  },
  {
   "cell_type": "markdown",
   "metadata": {
    "colab_type": "text",
    "id": "gdadr2uLWZc7"
   },
   "source": []
  },
  {
   "cell_type": "markdown",
   "metadata": {
    "colab_type": "text",
    "id": "_dWIqWLeur6x"
   },
   "source": [
    "## 网络训练"
   ]
  },
  {
   "cell_type": "code",
   "execution_count": 8,
   "metadata": {
    "colab": {
     "base_uri": "https://localhost:8080/",
     "height": 1000
    },
    "colab_type": "code",
    "executionInfo": {
     "elapsed": 3249285,
     "status": "ok",
     "timestamp": 1592381240687,
     "user": {
      "displayName": "Yichong Wang",
      "photoUrl": "",
      "userId": "10580894442079928862"
     },
     "user_tz": -480
    },
    "id": "D6OLIYwyur6x",
    "outputId": "bab1d371-10f3-45a1-c1c4-4df5d3186b6f"
   },
   "outputs": [
    {
     "name": "stderr",
     "output_type": "stream",
     "text": [
      "100%|██████████| 142/142 [05:05<00:00,  2.15s/it]\n",
      "100%|██████████| 26/26 [00:19<00:00,  1.36it/s]\n",
      "  0%|          | 0/142 [00:00<?, ?it/s]"
     ]
    },
    {
     "name": "stdout",
     "output_type": "stream",
     "text": [
      "epoch: 0\n",
      "lr: 0.0001\n",
      "train lose: 0.3614118749826727\n",
      "val lose: 0.2665086743923334\n",
      "val js: 0.7914131728413926\n"
     ]
    },
    {
     "name": "stderr",
     "output_type": "stream",
     "text": [
      "100%|██████████| 142/142 [05:03<00:00,  2.14s/it]\n",
      "100%|██████████| 26/26 [00:19<00:00,  1.36it/s]\n",
      "  0%|          | 0/142 [00:00<?, ?it/s]"
     ]
    },
    {
     "name": "stdout",
     "output_type": "stream",
     "text": [
      "epoch: 1\n",
      "lr: 0.0001\n",
      "train lose: 0.2311583742709227\n",
      "val lose: 0.20812652718562347\n",
      "val js: 0.8238075360430732\n"
     ]
    },
    {
     "name": "stderr",
     "output_type": "stream",
     "text": [
      "100%|██████████| 142/142 [05:03<00:00,  2.14s/it]\n",
      "100%|██████████| 26/26 [00:19<00:00,  1.37it/s]\n",
      "  0%|          | 0/142 [00:00<?, ?it/s]"
     ]
    },
    {
     "name": "stdout",
     "output_type": "stream",
     "text": [
      "epoch: 2\n",
      "lr: 0.0001\n",
      "train lose: 0.19463611750955312\n",
      "val lose: 0.21505748136685446\n",
      "val js: 0.7918855587524967\n"
     ]
    },
    {
     "name": "stderr",
     "output_type": "stream",
     "text": [
      "100%|██████████| 142/142 [05:03<00:00,  2.14s/it]\n",
      "100%|██████████| 26/26 [00:19<00:00,  1.36it/s]\n",
      "  0%|          | 0/142 [00:00<?, ?it/s]"
     ]
    },
    {
     "name": "stdout",
     "output_type": "stream",
     "text": [
      "epoch: 3\n",
      "lr: 0.0001\n",
      "train lose: 0.16995571170684318\n",
      "val lose: 0.17787363896003136\n",
      "val js: 0.8211800818927986\n"
     ]
    },
    {
     "name": "stderr",
     "output_type": "stream",
     "text": [
      "100%|██████████| 142/142 [05:03<00:00,  2.14s/it]\n",
      "100%|██████████| 26/26 [00:19<00:00,  1.36it/s]\n",
      "  0%|          | 0/142 [00:00<?, ?it/s]"
     ]
    },
    {
     "name": "stdout",
     "output_type": "stream",
     "text": [
      "epoch: 4\n",
      "lr: 0.0001\n",
      "train lose: 0.1519733569781545\n",
      "val lose: 0.17313435931618398\n",
      "val js: 0.8168654847982896\n"
     ]
    },
    {
     "name": "stderr",
     "output_type": "stream",
     "text": [
      "100%|██████████| 142/142 [05:03<00:00,  2.13s/it]\n",
      "100%|██████████| 26/26 [00:19<00:00,  1.37it/s]\n",
      "  0%|          | 0/142 [00:00<?, ?it/s]"
     ]
    },
    {
     "name": "stdout",
     "output_type": "stream",
     "text": [
      "epoch: 5\n",
      "lr: 0.0001\n",
      "train lose: 0.13582695564123945\n",
      "val lose: 0.15571312634990767\n",
      "val js: 0.8262840929618628\n"
     ]
    },
    {
     "name": "stderr",
     "output_type": "stream",
     "text": [
      "100%|██████████| 142/142 [05:02<00:00,  2.13s/it]\n",
      "100%|██████████| 26/26 [00:19<00:00,  1.36it/s]\n",
      "  0%|          | 0/142 [00:00<?, ?it/s]"
     ]
    },
    {
     "name": "stdout",
     "output_type": "stream",
     "text": [
      "epoch: 6\n",
      "lr: 0.0001\n",
      "train lose: 0.12735105221959905\n",
      "val lose: 0.1397245222559342\n",
      "val js: 0.8302977008767003\n"
     ]
    },
    {
     "name": "stderr",
     "output_type": "stream",
     "text": [
      "100%|██████████| 142/142 [05:03<00:00,  2.13s/it]\n",
      "100%|██████████| 26/26 [00:18<00:00,  1.37it/s]\n",
      "  0%|          | 0/142 [00:00<?, ?it/s]"
     ]
    },
    {
     "name": "stdout",
     "output_type": "stream",
     "text": [
      "epoch: 7\n",
      "lr: 0.0001\n",
      "train lose: 0.11871006974661855\n",
      "val lose: 0.13838611256617767\n",
      "val js: 0.8310342063671026\n"
     ]
    },
    {
     "name": "stderr",
     "output_type": "stream",
     "text": [
      "100%|██████████| 142/142 [05:02<00:00,  2.13s/it]\n",
      "100%|██████████| 26/26 [00:18<00:00,  1.37it/s]\n",
      "  0%|          | 0/142 [00:00<?, ?it/s]"
     ]
    },
    {
     "name": "stdout",
     "output_type": "stream",
     "text": [
      "epoch: 8\n",
      "lr: 0.0001\n",
      "train lose: 0.11235568706523365\n",
      "val lose: 0.12192124142669715\n",
      "val js: 0.838163563015924\n"
     ]
    },
    {
     "name": "stderr",
     "output_type": "stream",
     "text": [
      "100%|██████████| 142/142 [05:02<00:00,  2.13s/it]\n",
      "100%|██████████| 26/26 [00:18<00:00,  1.37it/s]\n"
     ]
    },
    {
     "name": "stdout",
     "output_type": "stream",
     "text": [
      "epoch: 9\n",
      "lr: 0.0001\n",
      "train lose: 0.11096425034420591\n",
      "val lose: 0.11946504290860432\n",
      "val js: 0.8404342676971961\n"
     ]
    }
   ],
   "source": [
    "for epoch in range(10):\n",
    "    train_loader = tqdm(train_loader)\n",
    "    train_loss = 0\n",
    "    model.train()\n",
    "    for i, (X, Y) in enumerate(train_loader):  # 使用枚举函数遍历train_loader\n",
    "        X = Variable(X).to(device) #转化数据类型\n",
    "        #X = Variable(X)\n",
    "        X = X.float()\n",
    "        Y = Variable(Y).to(device)\n",
    "        Y = Y.float()\n",
    "        outs = model(X)  # 正向传播\n",
    "        lossvalue = loss(outs, Y[:,0:out_channel,:,:])  # 求损失值\n",
    "        optimizer.zero_grad()  # 优化器梯度归零\n",
    "        lossvalue.backward()  # 反向转播，刷新梯度值\n",
    "        nn.utils.clip_grad_value_(model.parameters(), 1)\n",
    "        optimizer.step()  # 优化器运行一步\n",
    "        # 计算损失\n",
    "        train_loss += float(lossvalue)\n",
    "    val_loss = 0  # 定义验证损失\n",
    "    val_js = 0\n",
    "    max_js = 0\n",
    "    model.eval() #模型转化为评估模式\n",
    "    val_loader = tqdm(val_loader)\n",
    "    for i,(X, Y) in enumerate(val_loader):\n",
    "        X = Variable(X).to(device)\n",
    "        X = X.float()\n",
    "        Y = Variable(Y).to(device)\n",
    "        with torch.no_grad():\n",
    "            outs = model(X)\n",
    "            score = cal_jaccard_binary(outs, Y[:,0:out_channel,:,:])\n",
    "        lossvalue = loss(outs, Y[:,0:out_channel,:,:])  # 求损失值\n",
    "        val_loss += float(lossvalue)\n",
    "        val_js += score\n",
    "    scheduler.step(val_js)\n",
    "    max_js = max(max_js,val_js)\n",
    "    if max_js == val_js:\n",
    "      torch.save(model, 'modelunet++.pkl')      \n",
    "    print(\"epoch:\" + ' ' + str(epoch))\n",
    "    lr = optimizer.state_dict()['param_groups'][0]['lr']\n",
    "    print(\"lr:\", lr)\n",
    "    print(\"train lose:\" + ' ' + str(train_loss / len(train_loader)))\n",
    "    print(\"val lose:\" + ' ' + str(val_loss / len(val_loader)))\n",
    "    print(\"val js:\" + ' ' + str(val_js / len(val_loader)))\n"
   ]
  },
  {
   "cell_type": "markdown",
   "metadata": {
    "colab_type": "text",
    "id": "_QbpBfGu0UPL"
   },
   "source": [
    "## 输出验证集最终预测结果"
   ]
  },
  {
   "cell_type": "code",
   "execution_count": 9,
   "metadata": {
    "colab": {},
    "colab_type": "code",
    "executionInfo": {
     "elapsed": 3268845,
     "status": "ok",
     "timestamp": 1592381260253,
     "user": {
      "displayName": "Yichong Wang",
      "photoUrl": "",
      "userId": "10580894442079928862"
     },
     "user_tz": -480
    },
    "id": "RSQMTl5D6pRJ"
   },
   "outputs": [],
   "source": [
    "model = torch.load('modelunet++.pkl')\n",
    "device = torch.device('cuda' if torch.cuda.is_available() else 'cpu')\n",
    "model = model.to(device)\n",
    "model.eval()\n",
    "val_marker,val_border = [],[]\n",
    "val_pred = []\n",
    "val_y,val_x = [],[]\n",
    "for i, (X,Y) in enumerate(val_loader):\n",
    "    X = Variable(X).to(device)\n",
    "    X = X.float()\n",
    "    Y = Variable(Y).to(device)\n",
    "    with torch.no_grad():\n",
    "      out = model(X)\n",
    "      out_prob1 = torch.sigmoid(out[:,0,:,:])\n",
    "      out_prob2 = torch.sigmoid(out[:,1,:,:])\n",
    "    y_marker = out_prob1.cpu().clone().numpy()[0,:,:]\n",
    "    y_border = out_prob2.cpu().clone().numpy()[0,:,:]\n",
    "    val_marker.append(y_marker)\n",
    "    val_border.append(y_border)\n",
    "    x_real = X.cpu().clone().numpy()[0,0,:,:]\n",
    "    y_real = np.zeros((512,512,3))\n",
    "    y_real[:,:,0] = Y.cpu().clone().numpy()[0,0,:,:]\n",
    "    y_real[:,:,1] = Y.cpu().clone().numpy()[0,1,:,:]\n",
    "    y_real[:,:,2] = Y.cpu().clone().numpy()[0,2,:,:]        \n",
    "    val_y.append(y_real)\n",
    "    val_x.append(x_real)\n",
    "\n",
    "# 因为验证集做了数据增强，所以要保存原先的x和y以便后面计算Jaccard\n",
    "val_marker = np.asarray(val_marker)\n",
    "val_marker = np.expand_dims(val_marker,3)\n",
    "val_border = np.asarray(val_border)\n",
    "val_border = np.expand_dims(val_border,3)\n",
    "val_x = np.asarray(val_x)\n",
    "val_x = np.expand_dims(val_x,3)\n",
    "val_x_new = np.concatenate((val_marker, val_x), axis=3)\n",
    "val_y = np.asarray(val_y)\n",
    "\n"
   ]
  },
  {
   "cell_type": "markdown",
   "metadata": {
    "colab_type": "text",
    "id": "3ND4YWu10nOM"
   },
   "source": [
    "## 输出测试集最后预测结果"
   ]
  },
  {
   "cell_type": "code",
   "execution_count": 10,
   "metadata": {
    "colab": {},
    "colab_type": "code",
    "executionInfo": {
     "elapsed": 3273058,
     "status": "ok",
     "timestamp": 1592381264471,
     "user": {
      "displayName": "Yichong Wang",
      "photoUrl": "",
      "userId": "10580894442079928862"
     },
     "user_tz": -480
    },
    "id": "RetkkNcF7CSh"
   },
   "outputs": [],
   "source": [
    "tta_model = tta.SegmentationTTAWrapper(model, tta.aliases.d4_transform(), merge_mode='mean')\n",
    "test_x = []\n",
    "test_marker = []\n",
    "test_border = []\n",
    "device = torch.device('cuda' if torch.cuda.is_available() else 'cpu')\n",
    "for i, X in enumerate(test_loader):\n",
    "    X = Variable(X).to(device)\n",
    "    X = X.float()\n",
    "    with torch.no_grad():\n",
    "      out = model(X)\n",
    "\n",
    "      out_prob1 = torch.sigmoid(out[:,0,:,:])\n",
    "      out_prob2 = torch.sigmoid(out[:,1,:,:])\n",
    "    y_marker = out_prob1.cpu().clone().numpy()[0,:,:]\n",
    "    y_border = out_prob2.cpu().clone().numpy()[0,:,:]\n",
    "    x_real = X.cpu().clone().numpy()[0,0,:,:]\n",
    "    test_marker.append(y_marker)\n",
    "    test_border.append(y_border)\n",
    "    test_x.append(x_real)\n",
    "test_marker = np.asarray(test_marker)\n",
    "test_border = np.asarray(test_border)\n",
    "test_x = np.asarray(test_x)\n",
    "test_marker = np.expand_dims(test_marker,3)\n",
    "test_border = np.expand_dims(test_border,3)\n",
    "test_x = np.expand_dims(test_x,3)\n",
    "test_x_new = np.concatenate((test_marker, test_x), axis=3)"
   ]
  },
  {
   "cell_type": "markdown",
   "metadata": {
    "colab_type": "text",
    "id": "eUkiq4k000oG"
   },
   "source": [
    "## 验证集后处理效果"
   ]
  },
  {
   "cell_type": "code",
   "execution_count": null,
   "metadata": {
    "colab": {
     "base_uri": "https://localhost:8080/",
     "height": 87
    },
    "colab_type": "code",
    "id": "61MclBMBaWO_",
    "outputId": "675dcbcc-298b-44f3-8a11-272233ba5bed"
   },
   "outputs": [
    {
     "name": "stderr",
     "output_type": "stream",
     "text": [
      "/usr/local/lib/python3.6/dist-packages/ipykernel_launcher.py:4: UserWarning: Any labeled images will be returned as a boolean array. Did you mean to use a boolean array?\n",
      "  after removing the cwd from sys.path.\n",
      "/usr/local/lib/python3.6/dist-packages/ipykernel_launcher.py:56: UserWarning: Any labeled images will be returned as a boolean array. Did you mean to use a boolean array?\n"
     ]
    }
   ],
   "source": [
    "js = 0\n",
    "for i in range(val_marker.shape[0]):\n",
    "  marker = val_marker[i,:,:,0]\n",
    "  border = val_border[i,:,:,0]\n",
    "  process = output_postprocess2(marker,border)\n",
    "  labels = (val_y[i,:,:,2]*255).astype(np.uint8)\n",
    "  js += cal_jaccard(labels, process)\n",
    "js = js/val_marker.shape[0]\n",
    "print('validation score',js)"
   ]
  },
  {
   "cell_type": "code",
   "execution_count": 14,
   "metadata": {
    "colab": {
     "base_uri": "https://localhost:8080/",
     "height": 288
    },
    "colab_type": "code",
    "executionInfo": {
     "elapsed": 4638,
     "status": "ok",
     "timestamp": 1592381443678,
     "user": {
      "displayName": "Yichong Wang",
      "photoUrl": "",
      "userId": "10580894442079928862"
     },
     "user_tz": -480
    },
    "id": "Lc1DsblbbLqD",
    "outputId": "b6c29e4d-90e0-470f-c288-3e1a857a25f1"
   },
   "outputs": [
    {
     "name": "stderr",
     "output_type": "stream",
     "text": [
      "/usr/local/lib/python3.6/dist-packages/ipykernel_launcher.py:4: UserWarning: Any labeled images will be returned as a boolean array. Did you mean to use a boolean array?\n",
      "  after removing the cwd from sys.path.\n",
      "/usr/local/lib/python3.6/dist-packages/ipykernel_launcher.py:56: UserWarning: Any labeled images will be returned as a boolean array. Did you mean to use a boolean array?\n",
      "/usr/local/lib/python3.6/dist-packages/ipykernel_launcher.py:12: UserWarning: ./test_RES/mask000.tif is a low contrast image\n",
      "  if sys.path[0] == '':\n",
      "/usr/local/lib/python3.6/dist-packages/ipykernel_launcher.py:12: UserWarning: ./test_RES/mask001.tif is a low contrast image\n",
      "  if sys.path[0] == '':\n",
      "/usr/local/lib/python3.6/dist-packages/ipykernel_launcher.py:12: UserWarning: ./test_RES/mask002.tif is a low contrast image\n",
      "  if sys.path[0] == '':\n",
      "/usr/local/lib/python3.6/dist-packages/ipykernel_launcher.py:12: UserWarning: ./test_RES/mask003.tif is a low contrast image\n",
      "  if sys.path[0] == '':\n",
      "/usr/local/lib/python3.6/dist-packages/ipykernel_launcher.py:12: UserWarning: ./test_RES/mask004.tif is a low contrast image\n",
      "  if sys.path[0] == '':\n",
      "/usr/local/lib/python3.6/dist-packages/ipykernel_launcher.py:12: UserWarning: ./test_RES/mask005.tif is a low contrast image\n",
      "  if sys.path[0] == '':\n"
     ]
    }
   ],
   "source": [
    "out_path = './test_RES/mask'\n",
    "for i in range(6):\n",
    "  marker = test_marker[i,:,:,0]\n",
    "  border = test_border[i,:,:,0]\n",
    "  # plt.figure()\n",
    "  # plt.imshow(marker)\n",
    "  process = output_postprocess2(marker,border)\n",
    "  process = process[6:506,6:506]\n",
    "  process = process.astype(np.uint16)\n",
    "  num = '00' + str(i)\n",
    "  out_file = out_path + num + '.tif'\n",
    "  imsave(out_file, process)\n"
   ]
  },
  {
   "cell_type": "code",
   "execution_count": null,
   "metadata": {
    "colab": {},
    "colab_type": "code",
    "executionInfo": {
     "elapsed": 3273045,
     "status": "aborted",
     "timestamp": 1592381264474,
     "user": {
      "displayName": "Yichong Wang",
      "photoUrl": "",
      "userId": "10580894442079928862"
     },
     "user_tz": -480
    },
    "id": "N_epWXALvtzP"
   },
   "outputs": [],
   "source": []
  }
 ],
 "metadata": {
  "accelerator": "GPU",
  "colab": {
   "collapsed_sections": [],
   "name": "Segmentationv1.0.ipynb",
   "provenance": []
  },
  "kernelspec": {
   "display_name": "Python 3",
   "language": "python",
   "name": "python3"
  },
  "language_info": {
   "codemirror_mode": {
    "name": "ipython",
    "version": 3
   },
   "file_extension": ".py",
   "mimetype": "text/x-python",
   "name": "python",
   "nbconvert_exporter": "python",
   "pygments_lexer": "ipython3",
   "version": "3.7.7"
  }
 },
 "nbformat": 4,
 "nbformat_minor": 1
}
