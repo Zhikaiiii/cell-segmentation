{
 "cells": [
  {
   "cell_type": "code",
   "execution_count": 1,
   "metadata": {
    "colab": {
     "base_uri": "https://localhost:8080/",
     "height": 121
    },
    "colab_type": "code",
    "executionInfo": {
     "elapsed": 55322,
     "status": "ok",
     "timestamp": 1592394144855,
     "user": {
      "displayName": "Yichong Wang",
      "photoUrl": "",
      "userId": "10580894442079928862"
     },
     "user_tz": -480
    },
    "id": "k4sxKnGiur6f",
    "outputId": "b7bfa988-7315-4244-c10b-c6f9ea8b1123"
   },
   "outputs": [
    {
     "name": "stdout",
     "output_type": "stream",
     "text": [
      "Go to this URL in a browser: https://accounts.google.com/o/oauth2/auth?client_id=947318989803-6bn6qk8qdgf4n4g3pfee6491hc0brc4i.apps.googleusercontent.com&redirect_uri=urn%3aietf%3awg%3aoauth%3a2.0%3aoob&response_type=code&scope=email%20https%3a%2f%2fwww.googleapis.com%2fauth%2fdocs.test%20https%3a%2f%2fwww.googleapis.com%2fauth%2fdrive%20https%3a%2f%2fwww.googleapis.com%2fauth%2fdrive.photos.readonly%20https%3a%2f%2fwww.googleapis.com%2fauth%2fpeopleapi.readonly\n",
      "\n",
      "Enter your authorization code:\n",
      "··········\n",
      "Mounted at /content/gdrive\n"
     ]
    }
   ],
   "source": [
    "from google.colab import drive\n",
    "drive.mount('/content/gdrive')"
   ]
  },
  {
   "cell_type": "code",
   "execution_count": 2,
   "metadata": {
    "colab": {
     "base_uri": "https://localhost:8080/",
     "height": 84
    },
    "colab_type": "code",
    "executionInfo": {
     "elapsed": 6446,
     "status": "ok",
     "timestamp": 1592394153007,
     "user": {
      "displayName": "Yichong Wang",
      "photoUrl": "",
      "userId": "10580894442079928862"
     },
     "user_tz": -480
    },
    "id": "ROlFS6NOur6j",
    "outputId": "bb4e5f35-e19e-46d4-9ff2-19d5568a2233"
   },
   "outputs": [
    {
     "name": "stdout",
     "output_type": "stream",
     "text": [
      "Collecting ttach\n",
      "  Downloading https://files.pythonhosted.org/packages/53/22/470bb42f90505dc572f6bbcf3ac84d67aaf1554cd48cc08f788c36fec129/ttach-0.0.2-py3-none-any.whl\n",
      "Installing collected packages: ttach\n",
      "Successfully installed ttach-0.0.2\n"
     ]
    }
   ],
   "source": [
    "import os\n",
    "os.chdir(\"/content/gdrive/My Drive/wzk/seg1\")\n",
    "!pip install ttach\n",
    "# !pip install git+https://github.com/qubvel/segmentation_models.pytorch"
   ]
  },
  {
   "cell_type": "markdown",
   "metadata": {
    "colab_type": "text",
    "id": "iqaFSA3hur6l"
   },
   "source": [
    "## 引入相关库"
   ]
  },
  {
   "cell_type": "code",
   "execution_count": 3,
   "metadata": {
    "colab": {},
    "colab_type": "code",
    "executionInfo": {
     "elapsed": 8003,
     "status": "ok",
     "timestamp": 1592394161917,
     "user": {
      "displayName": "Yichong Wang",
      "photoUrl": "",
      "userId": "10580894442079928862"
     },
     "user_tz": -480
    },
    "id": "G0VVMe0Lur6m"
   },
   "outputs": [],
   "source": [
    "import numpy as np\n",
    "from PIL import Image\n",
    "import matplotlib.pyplot as plt\n",
    "from torch.utils.data import DataLoader, random_split\n",
    "from torchvision import transforms\n",
    "from torch.autograd import Variable\n",
    "import torch.optim as optim\n",
    "from torchsummary import summary\n",
    "import torch.nn as nn\n",
    "import torch\n",
    "from torch.utils.data import Dataset\n",
    "import torchvision.transforms.functional as tf\n",
    "from losses import *\n",
    "from utils import *\n",
    "from UNet import *\n",
    "from UNetplusplus import *\n",
    "from tqdm import tqdm\n",
    "from sklearn.model_selection import StratifiedKFold\n",
    "import ttach as tta\n",
    "import random"
   ]
  },
  {
   "cell_type": "code",
   "execution_count": 4,
   "metadata": {
    "colab": {},
    "colab_type": "code",
    "executionInfo": {
     "elapsed": 1140,
     "status": "ok",
     "timestamp": 1592394166129,
     "user": {
      "displayName": "Yichong Wang",
      "photoUrl": "",
      "userId": "10580894442079928862"
     },
     "user_tz": -480
    },
    "id": "HI2424MhrxwZ"
   },
   "outputs": [],
   "source": [
    "# 设置随机数种子\n",
    "def setup_seed(seed):\n",
    "  torch.manual_seed(seed)\n",
    "  torch.cuda.manual_seed_all(seed)\n",
    "  np.random.seed(seed)\n",
    "  random.seed(seed)\n",
    "  torch.backends.cudnn.deterministic = True\n",
    "seed = 1024\n",
    "setup_seed(seed)"
   ]
  },
  {
   "cell_type": "markdown",
   "metadata": {
    "colab_type": "text",
    "id": "uE2imUugur6o"
   },
   "source": [
    "## 读取数据"
   ]
  },
  {
   "cell_type": "code",
   "execution_count": 5,
   "metadata": {
    "colab": {
     "base_uri": "https://localhost:8080/",
     "height": 50
    },
    "colab_type": "code",
    "executionInfo": {
     "elapsed": 382282,
     "status": "ok",
     "timestamp": 1592394552790,
     "user": {
      "displayName": "Yichong Wang",
      "photoUrl": "",
      "userId": "10580894442079928862"
     },
     "user_tz": -480
    },
    "id": "b8lVR4vlur6o",
    "outputId": "f0bd9a3c-8e0c-4514-bb0c-9d89aaedd90c"
   },
   "outputs": [
    {
     "name": "stderr",
     "output_type": "stream",
     "text": [
      "100%|██████████| 175/175 [05:34<00:00,  1.91s/it]\n",
      "100%|██████████| 33/33 [00:44<00:00,  1.36s/it]\n"
     ]
    }
   ],
   "source": [
    "# 读取数据\n",
    "train_x_path = './supplementary_modify/dataset1/train/'\n",
    "train_y_path = './supplementary_modify/dataset1/train_GT/SEG/'\n",
    "test_x_path = './supplementary_modify/dataset1/test/'\n",
    "train_x = []\n",
    "train_y = []\n",
    "test_x = []\n",
    "filename_train_x = os.listdir(train_x_path)\n",
    "train_num = len(filename_train_x)\n",
    "for i in tqdm(range(train_num)):\n",
    "    filename = filename_train_x[i]\n",
    "    img = cv2.imread(train_x_path + filename, -1)\n",
    "    img = img_standardization(img)\n",
    "    train_x.append(img)\n",
    "    filename2 = 'man_seg' + filename[1:]\n",
    "    img_label = cv2.imread(train_y_path + filename2, -1)\n",
    "    img_mask = generate_mask(img_label)\n",
    "    train_y.append(img_mask)\n",
    "filename_test_x = os.listdir(test_x_path)\n",
    "filename_test_x.sort()\n",
    "test_num = len(filename_test_x)\n",
    "for i in tqdm(range(test_num)):\n",
    "    filename = filename_test_x[i]\n",
    "    img_test = cv2.imread(test_x_path + filename, -1)\n",
    "    img_test = img_standardization(img_test)\n",
    "    test_x.append(img_test)\n",
    "train_x = np.asarray(train_x)\n",
    "train_y = np.asarray(train_y)\n",
    "test_x = np.asarray(test_x)"
   ]
  },
  {
   "cell_type": "markdown",
   "metadata": {
    "colab_type": "text",
    "id": "Ez07wNZnur6r"
   },
   "source": [
    " ## 数据处理"
   ]
  },
  {
   "cell_type": "code",
   "execution_count": 6,
   "metadata": {
    "colab": {
     "base_uri": "https://localhost:8080/",
     "height": 33
    },
    "colab_type": "code",
    "executionInfo": {
     "elapsed": 946,
     "status": "ok",
     "timestamp": 1592394845383,
     "user": {
      "displayName": "Yichong Wang",
      "photoUrl": "",
      "userId": "10580894442079928862"
     },
     "user_tz": -480
    },
    "id": "C8FlNIyKur6s",
    "outputId": "9801171c-859b-4637-9615-4163178198b5"
   },
   "outputs": [
    {
     "name": "stdout",
     "output_type": "stream",
     "text": [
      "torch.Size([1, 640, 640])\n"
     ]
    }
   ],
   "source": [
    "# 划分训练集和验证集\n",
    "BATCH_SIZE = 1\n",
    "sample_num = train_x.shape[0] #样本数量\n",
    "pic_size = train_x.shape[1]\n",
    "train_num = int(sample_num*0.85)\n",
    "val_num = int(sample_num - train_num)\n",
    "\n",
    "train_data = MyDataSet(train_x, train_y)\n",
    "test_data = MyDataSet(test_x, type='test')\n",
    "train, val = random_split(train_data, [train_num, val_num])\n",
    "train_loader = DataLoader(train, batch_size=BATCH_SIZE, shuffle=True)\n",
    "val_loader = DataLoader(val, batch_size=BATCH_SIZE, shuffle=False)\n",
    "test_loader = DataLoader(test_data, batch_size=BATCH_SIZE, shuffle=False)\n",
    "print(train_data[0][0].shape)"
   ]
  },
  {
   "cell_type": "markdown",
   "metadata": {
    "colab_type": "text",
    "id": "vOYnCCxCur6u"
   },
   "source": [
    "## 超参数设置"
   ]
  },
  {
   "cell_type": "code",
   "execution_count": 7,
   "metadata": {
    "colab": {
     "base_uri": "https://localhost:8080/",
     "height": 1000,
     "referenced_widgets": [
      "42a74ca4330042cbb1fd9951198c6c0c",
      "7c62411ed4d0438488fe5b6e70c97d0c",
      "33d1939ff6d649a99abb514d6ace671e",
      "8c2535cdf87c4b15bc357445d30dc0d2",
      "f52bf4e16d6c457480d4bc3766f17820",
      "aeaa90b479fb4e78a95136e2956f6807",
      "57efae4a651946dba94cf05bc6b95caa",
      "a78e009e81ea493eafe79fd061f720be"
     ]
    },
    "colab_type": "code",
    "executionInfo": {
     "elapsed": 12523,
     "status": "ok",
     "timestamp": 1592394859804,
     "user": {
      "displayName": "Yichong Wang",
      "photoUrl": "",
      "userId": "10580894442079928862"
     },
     "user_tz": -480
    },
    "id": "I_NKfV4mur6u",
    "outputId": "5b9a1a6e-1b75-40fc-cabc-e1e145a440d9"
   },
   "outputs": [
    {
     "name": "stderr",
     "output_type": "stream",
     "text": [
      "Downloading: \"https://download.pytorch.org/models/resnet34-333f7ec4.pth\" to /root/.cache/torch/checkpoints/resnet34-333f7ec4.pth\n"
     ]
    },
    {
     "data": {
      "application/vnd.jupyter.widget-view+json": {
       "model_id": "42a74ca4330042cbb1fd9951198c6c0c",
       "version_major": 2,
       "version_minor": 0
      },
      "text/plain": [
       "HBox(children=(FloatProgress(value=0.0, max=87306240.0), HTML(value='')))"
      ]
     },
     "metadata": {
      "tags": []
     },
     "output_type": "display_data"
    },
    {
     "name": "stdout",
     "output_type": "stream",
     "text": [
      "\n",
      "----------------------------------------------------------------\n",
      "        Layer (type)               Output Shape         Param #\n",
      "================================================================\n",
      "            Conv2d-1         [-1, 64, 640, 640]             640\n",
      "       BatchNorm2d-2         [-1, 64, 640, 640]             128\n",
      "              ReLU-3         [-1, 64, 640, 640]               0\n",
      "            Conv2d-4         [-1, 64, 640, 640]          36,928\n",
      "       BatchNorm2d-5         [-1, 64, 640, 640]             128\n",
      "              ReLU-6         [-1, 64, 640, 640]               0\n",
      "          ConvCell-7         [-1, 64, 640, 640]               0\n",
      "         MaxPool2d-8         [-1, 64, 320, 320]               0\n",
      "            Conv2d-9         [-1, 64, 320, 320]          36,864\n",
      "      BatchNorm2d-10         [-1, 64, 320, 320]             128\n",
      "             ReLU-11         [-1, 64, 320, 320]               0\n",
      "           Conv2d-12         [-1, 64, 320, 320]          36,864\n",
      "      BatchNorm2d-13         [-1, 64, 320, 320]             128\n",
      "             ReLU-14         [-1, 64, 320, 320]               0\n",
      "       BasicBlock-15         [-1, 64, 320, 320]               0\n",
      "           Conv2d-16         [-1, 64, 320, 320]          36,864\n",
      "      BatchNorm2d-17         [-1, 64, 320, 320]             128\n",
      "             ReLU-18         [-1, 64, 320, 320]               0\n",
      "           Conv2d-19         [-1, 64, 320, 320]          36,864\n",
      "      BatchNorm2d-20         [-1, 64, 320, 320]             128\n",
      "             ReLU-21         [-1, 64, 320, 320]               0\n",
      "       BasicBlock-22         [-1, 64, 320, 320]               0\n",
      "           Conv2d-23         [-1, 64, 320, 320]          36,864\n",
      "      BatchNorm2d-24         [-1, 64, 320, 320]             128\n",
      "             ReLU-25         [-1, 64, 320, 320]               0\n",
      "           Conv2d-26         [-1, 64, 320, 320]          36,864\n",
      "      BatchNorm2d-27         [-1, 64, 320, 320]             128\n",
      "             ReLU-28         [-1, 64, 320, 320]               0\n",
      "       BasicBlock-29         [-1, 64, 320, 320]               0\n",
      "           Conv2d-30        [-1, 128, 160, 160]          73,728\n",
      "      BatchNorm2d-31        [-1, 128, 160, 160]             256\n",
      "             ReLU-32        [-1, 128, 160, 160]               0\n",
      "           Conv2d-33        [-1, 128, 160, 160]         147,456\n",
      "      BatchNorm2d-34        [-1, 128, 160, 160]             256\n",
      "           Conv2d-35        [-1, 128, 160, 160]           8,192\n",
      "      BatchNorm2d-36        [-1, 128, 160, 160]             256\n",
      "             ReLU-37        [-1, 128, 160, 160]               0\n",
      "       BasicBlock-38        [-1, 128, 160, 160]               0\n",
      "           Conv2d-39        [-1, 128, 160, 160]         147,456\n",
      "      BatchNorm2d-40        [-1, 128, 160, 160]             256\n",
      "             ReLU-41        [-1, 128, 160, 160]               0\n",
      "           Conv2d-42        [-1, 128, 160, 160]         147,456\n",
      "      BatchNorm2d-43        [-1, 128, 160, 160]             256\n",
      "             ReLU-44        [-1, 128, 160, 160]               0\n",
      "       BasicBlock-45        [-1, 128, 160, 160]               0\n",
      "           Conv2d-46        [-1, 128, 160, 160]         147,456\n",
      "      BatchNorm2d-47        [-1, 128, 160, 160]             256\n",
      "             ReLU-48        [-1, 128, 160, 160]               0\n",
      "           Conv2d-49        [-1, 128, 160, 160]         147,456\n",
      "      BatchNorm2d-50        [-1, 128, 160, 160]             256\n",
      "             ReLU-51        [-1, 128, 160, 160]               0\n",
      "       BasicBlock-52        [-1, 128, 160, 160]               0\n",
      "           Conv2d-53        [-1, 128, 160, 160]         147,456\n",
      "      BatchNorm2d-54        [-1, 128, 160, 160]             256\n",
      "             ReLU-55        [-1, 128, 160, 160]               0\n",
      "           Conv2d-56        [-1, 128, 160, 160]         147,456\n",
      "      BatchNorm2d-57        [-1, 128, 160, 160]             256\n",
      "             ReLU-58        [-1, 128, 160, 160]               0\n",
      "       BasicBlock-59        [-1, 128, 160, 160]               0\n",
      "           Conv2d-60          [-1, 256, 80, 80]         294,912\n",
      "      BatchNorm2d-61          [-1, 256, 80, 80]             512\n",
      "             ReLU-62          [-1, 256, 80, 80]               0\n",
      "           Conv2d-63          [-1, 256, 80, 80]         589,824\n",
      "      BatchNorm2d-64          [-1, 256, 80, 80]             512\n",
      "           Conv2d-65          [-1, 256, 80, 80]          32,768\n",
      "      BatchNorm2d-66          [-1, 256, 80, 80]             512\n",
      "             ReLU-67          [-1, 256, 80, 80]               0\n",
      "       BasicBlock-68          [-1, 256, 80, 80]               0\n",
      "           Conv2d-69          [-1, 256, 80, 80]         589,824\n",
      "      BatchNorm2d-70          [-1, 256, 80, 80]             512\n",
      "             ReLU-71          [-1, 256, 80, 80]               0\n",
      "           Conv2d-72          [-1, 256, 80, 80]         589,824\n",
      "      BatchNorm2d-73          [-1, 256, 80, 80]             512\n",
      "             ReLU-74          [-1, 256, 80, 80]               0\n",
      "       BasicBlock-75          [-1, 256, 80, 80]               0\n",
      "           Conv2d-76          [-1, 256, 80, 80]         589,824\n",
      "      BatchNorm2d-77          [-1, 256, 80, 80]             512\n",
      "             ReLU-78          [-1, 256, 80, 80]               0\n",
      "           Conv2d-79          [-1, 256, 80, 80]         589,824\n",
      "      BatchNorm2d-80          [-1, 256, 80, 80]             512\n",
      "             ReLU-81          [-1, 256, 80, 80]               0\n",
      "       BasicBlock-82          [-1, 256, 80, 80]               0\n",
      "           Conv2d-83          [-1, 256, 80, 80]         589,824\n",
      "      BatchNorm2d-84          [-1, 256, 80, 80]             512\n",
      "             ReLU-85          [-1, 256, 80, 80]               0\n",
      "           Conv2d-86          [-1, 256, 80, 80]         589,824\n",
      "      BatchNorm2d-87          [-1, 256, 80, 80]             512\n",
      "             ReLU-88          [-1, 256, 80, 80]               0\n",
      "       BasicBlock-89          [-1, 256, 80, 80]               0\n",
      "           Conv2d-90          [-1, 256, 80, 80]         589,824\n",
      "      BatchNorm2d-91          [-1, 256, 80, 80]             512\n",
      "             ReLU-92          [-1, 256, 80, 80]               0\n",
      "           Conv2d-93          [-1, 256, 80, 80]         589,824\n",
      "      BatchNorm2d-94          [-1, 256, 80, 80]             512\n",
      "             ReLU-95          [-1, 256, 80, 80]               0\n",
      "       BasicBlock-96          [-1, 256, 80, 80]               0\n",
      "           Conv2d-97          [-1, 256, 80, 80]         589,824\n",
      "      BatchNorm2d-98          [-1, 256, 80, 80]             512\n",
      "             ReLU-99          [-1, 256, 80, 80]               0\n",
      "          Conv2d-100          [-1, 256, 80, 80]         589,824\n",
      "     BatchNorm2d-101          [-1, 256, 80, 80]             512\n",
      "            ReLU-102          [-1, 256, 80, 80]               0\n",
      "      BasicBlock-103          [-1, 256, 80, 80]               0\n",
      "          Conv2d-104          [-1, 512, 40, 40]       1,179,648\n",
      "     BatchNorm2d-105          [-1, 512, 40, 40]           1,024\n",
      "            ReLU-106          [-1, 512, 40, 40]               0\n",
      "          Conv2d-107          [-1, 512, 40, 40]       2,359,296\n",
      "     BatchNorm2d-108          [-1, 512, 40, 40]           1,024\n",
      "          Conv2d-109          [-1, 512, 40, 40]         131,072\n",
      "     BatchNorm2d-110          [-1, 512, 40, 40]           1,024\n",
      "            ReLU-111          [-1, 512, 40, 40]               0\n",
      "      BasicBlock-112          [-1, 512, 40, 40]               0\n",
      "          Conv2d-113          [-1, 512, 40, 40]       2,359,296\n",
      "     BatchNorm2d-114          [-1, 512, 40, 40]           1,024\n",
      "            ReLU-115          [-1, 512, 40, 40]               0\n",
      "          Conv2d-116          [-1, 512, 40, 40]       2,359,296\n",
      "     BatchNorm2d-117          [-1, 512, 40, 40]           1,024\n",
      "            ReLU-118          [-1, 512, 40, 40]               0\n",
      "      BasicBlock-119          [-1, 512, 40, 40]               0\n",
      "          Conv2d-120          [-1, 512, 40, 40]       2,359,296\n",
      "     BatchNorm2d-121          [-1, 512, 40, 40]           1,024\n",
      "            ReLU-122          [-1, 512, 40, 40]               0\n",
      "          Conv2d-123          [-1, 512, 40, 40]       2,359,296\n",
      "     BatchNorm2d-124          [-1, 512, 40, 40]           1,024\n",
      "            ReLU-125          [-1, 512, 40, 40]               0\n",
      "      BasicBlock-126          [-1, 512, 40, 40]               0\n",
      "        Upsample-127         [-1, 64, 640, 640]               0\n",
      "          Conv2d-128         [-1, 64, 640, 640]          73,792\n",
      "     BatchNorm2d-129         [-1, 64, 640, 640]             128\n",
      "            ReLU-130         [-1, 64, 640, 640]               0\n",
      "          Conv2d-131         [-1, 64, 640, 640]          36,928\n",
      "     BatchNorm2d-132         [-1, 64, 640, 640]             128\n",
      "            ReLU-133         [-1, 64, 640, 640]               0\n",
      "        ConvCell-134         [-1, 64, 640, 640]               0\n",
      "        Upsample-135        [-1, 128, 320, 320]               0\n",
      "          Conv2d-136         [-1, 64, 320, 320]         110,656\n",
      "     BatchNorm2d-137         [-1, 64, 320, 320]             128\n",
      "            ReLU-138         [-1, 64, 320, 320]               0\n",
      "          Conv2d-139         [-1, 64, 320, 320]          36,928\n",
      "     BatchNorm2d-140         [-1, 64, 320, 320]             128\n",
      "            ReLU-141         [-1, 64, 320, 320]               0\n",
      "        ConvCell-142         [-1, 64, 320, 320]               0\n",
      "        Upsample-143         [-1, 64, 640, 640]               0\n",
      "          Conv2d-144         [-1, 64, 640, 640]         110,656\n",
      "     BatchNorm2d-145         [-1, 64, 640, 640]             128\n",
      "            ReLU-146         [-1, 64, 640, 640]               0\n",
      "          Conv2d-147         [-1, 64, 640, 640]          36,928\n",
      "     BatchNorm2d-148         [-1, 64, 640, 640]             128\n",
      "            ReLU-149         [-1, 64, 640, 640]               0\n",
      "        ConvCell-150         [-1, 64, 640, 640]               0\n",
      "        Upsample-151        [-1, 256, 160, 160]               0\n",
      "          Conv2d-152        [-1, 128, 160, 160]         442,496\n",
      "     BatchNorm2d-153        [-1, 128, 160, 160]             256\n",
      "            ReLU-154        [-1, 128, 160, 160]               0\n",
      "          Conv2d-155        [-1, 128, 160, 160]         147,584\n",
      "     BatchNorm2d-156        [-1, 128, 160, 160]             256\n",
      "            ReLU-157        [-1, 128, 160, 160]               0\n",
      "        ConvCell-158        [-1, 128, 160, 160]               0\n",
      "        Upsample-159        [-1, 128, 320, 320]               0\n",
      "          Conv2d-160         [-1, 64, 320, 320]         147,520\n",
      "     BatchNorm2d-161         [-1, 64, 320, 320]             128\n",
      "            ReLU-162         [-1, 64, 320, 320]               0\n",
      "          Conv2d-163         [-1, 64, 320, 320]          36,928\n",
      "     BatchNorm2d-164         [-1, 64, 320, 320]             128\n",
      "            ReLU-165         [-1, 64, 320, 320]               0\n",
      "        ConvCell-166         [-1, 64, 320, 320]               0\n",
      "        Upsample-167         [-1, 64, 640, 640]               0\n",
      "          Conv2d-168         [-1, 64, 640, 640]         147,520\n",
      "     BatchNorm2d-169         [-1, 64, 640, 640]             128\n",
      "            ReLU-170         [-1, 64, 640, 640]               0\n",
      "          Conv2d-171         [-1, 64, 640, 640]          36,928\n",
      "     BatchNorm2d-172         [-1, 64, 640, 640]             128\n",
      "            ReLU-173         [-1, 64, 640, 640]               0\n",
      "        ConvCell-174         [-1, 64, 640, 640]               0\n",
      "        Upsample-175          [-1, 512, 80, 80]               0\n",
      "          Conv2d-176          [-1, 256, 80, 80]       1,769,728\n",
      "     BatchNorm2d-177          [-1, 256, 80, 80]             512\n",
      "            ReLU-178          [-1, 256, 80, 80]               0\n",
      "          Conv2d-179          [-1, 256, 80, 80]         590,080\n",
      "     BatchNorm2d-180          [-1, 256, 80, 80]             512\n",
      "            ReLU-181          [-1, 256, 80, 80]               0\n",
      "        ConvCell-182          [-1, 256, 80, 80]               0\n",
      "        Upsample-183        [-1, 256, 160, 160]               0\n",
      "          Conv2d-184        [-1, 128, 160, 160]         589,952\n",
      "     BatchNorm2d-185        [-1, 128, 160, 160]             256\n",
      "            ReLU-186        [-1, 128, 160, 160]               0\n",
      "          Conv2d-187        [-1, 128, 160, 160]         147,584\n",
      "     BatchNorm2d-188        [-1, 128, 160, 160]             256\n",
      "            ReLU-189        [-1, 128, 160, 160]               0\n",
      "        ConvCell-190        [-1, 128, 160, 160]               0\n",
      "        Upsample-191        [-1, 128, 320, 320]               0\n",
      "          Conv2d-192         [-1, 64, 320, 320]         184,384\n",
      "     BatchNorm2d-193         [-1, 64, 320, 320]             128\n",
      "            ReLU-194         [-1, 64, 320, 320]               0\n",
      "          Conv2d-195         [-1, 64, 320, 320]          36,928\n",
      "     BatchNorm2d-196         [-1, 64, 320, 320]             128\n",
      "            ReLU-197         [-1, 64, 320, 320]               0\n",
      "        ConvCell-198         [-1, 64, 320, 320]               0\n",
      "        Upsample-199         [-1, 64, 640, 640]               0\n",
      "          Conv2d-200         [-1, 64, 640, 640]         184,384\n",
      "     BatchNorm2d-201         [-1, 64, 640, 640]             128\n",
      "            ReLU-202         [-1, 64, 640, 640]               0\n",
      "          Conv2d-203         [-1, 64, 640, 640]          36,928\n",
      "     BatchNorm2d-204         [-1, 64, 640, 640]             128\n",
      "            ReLU-205         [-1, 64, 640, 640]               0\n",
      "        ConvCell-206         [-1, 64, 640, 640]               0\n",
      "          Conv2d-207          [-1, 2, 640, 640]             130\n",
      "================================================================\n",
      "Total params: 26,221,762\n",
      "Trainable params: 26,221,762\n",
      "Non-trainable params: 0\n",
      "----------------------------------------------------------------\n",
      "Input size (MB): 1.56\n",
      "Forward/backward pass size (MB): 12262.50\n",
      "Params size (MB): 100.03\n",
      "Estimated Total Size (MB): 12364.09\n",
      "----------------------------------------------------------------\n"
     ]
    }
   ],
   "source": [
    "# 超参数设置\n",
    "lr = 0.0001\n",
    "device = torch.device('cuda' if torch.cuda.is_available() else 'cpu')\n",
    "out_channel = 2\n",
    "in_channel = 1\n",
    "deep_supervision=False\n",
    "model = UNetPlusPlus(in_channel, out_channel, deep_supervision)\n",
    "# model.apply(init_weights)\n",
    "model = model.to(device)\n",
    "summary(model, input_size=(1, 640, 640))\n",
    "optimizer = optim.Adam(model.parameters(),lr=lr)\n",
    "# loss = nn.BCEWithLogitsLoss()\n",
    "# loss = FocalDiceLoss(0.25, 2)\n",
    "loss = BCEDiceLoss()\n",
    "# loss 停止下降时改变学习率\n",
    "scheduler = optim.lr_scheduler.ReduceLROnPlateau(optimizer, 'max', patience=3)\n",
    "num_epochs = 20\n"
   ]
  },
  {
   "cell_type": "markdown",
   "metadata": {
    "colab_type": "text",
    "id": "gdadr2uLWZc7"
   },
   "source": []
  },
  {
   "cell_type": "markdown",
   "metadata": {
    "colab_type": "text",
    "id": "_dWIqWLeur6x"
   },
   "source": [
    "## 网络训练"
   ]
  },
  {
   "cell_type": "code",
   "execution_count": null,
   "metadata": {
    "colab": {
     "base_uri": "https://localhost:8080/",
     "height": 1000
    },
    "colab_type": "code",
    "executionInfo": {
     "elapsed": 2152118,
     "status": "ok",
     "timestamp": 1592151139024,
     "user": {
      "displayName": "Yichong Wang",
      "photoUrl": "",
      "userId": "10580894442079928862"
     },
     "user_tz": -480
    },
    "id": "D6OLIYwyur6x",
    "outputId": "07162057-fa22-4206-9b4e-1f89a5c9f419"
   },
   "outputs": [
    {
     "name": "stderr",
     "output_type": "stream",
     "text": [
      "100%|██████████| 148/148 [01:59<00:00,  1.24it/s]\n",
      "100%|██████████| 27/27 [00:05<00:00,  5.01it/s]\n",
      "  0%|          | 0/148 [00:00<?, ?it/s]"
     ]
    },
    {
     "name": "stdout",
     "output_type": "stream",
     "text": [
      "epoch: 0\n",
      "lr: 0.0001\n",
      "train lose: 0.4494896558289592\n",
      "val lose: 0.36222392320632935\n",
      "val js: 0.6913103860486205\n"
     ]
    },
    {
     "name": "stderr",
     "output_type": "stream",
     "text": [
      "100%|██████████| 148/148 [01:59<00:00,  1.24it/s]\n",
      "100%|██████████| 27/27 [00:05<00:00,  4.99it/s]\n",
      "  0%|          | 0/148 [00:00<?, ?it/s]"
     ]
    },
    {
     "name": "stdout",
     "output_type": "stream",
     "text": [
      "epoch: 1\n",
      "lr: 0.0001\n",
      "train lose: 0.2935018983443041\n",
      "val lose: 0.29992166216726657\n",
      "val js: 0.7304593250560605\n"
     ]
    },
    {
     "name": "stderr",
     "output_type": "stream",
     "text": [
      "100%|██████████| 148/148 [01:59<00:00,  1.24it/s]\n",
      "100%|██████████| 27/27 [00:05<00:00,  4.97it/s]\n",
      "  0%|          | 0/148 [00:00<?, ?it/s]"
     ]
    },
    {
     "name": "stdout",
     "output_type": "stream",
     "text": [
      "epoch: 2\n",
      "lr: 0.0001\n",
      "train lose: 0.24886656109545682\n",
      "val lose: 0.28306123393553273\n",
      "val js: 0.7169740450081279\n"
     ]
    },
    {
     "name": "stderr",
     "output_type": "stream",
     "text": [
      "100%|██████████| 148/148 [01:59<00:00,  1.24it/s]\n",
      "100%|██████████| 27/27 [00:05<00:00,  4.97it/s]\n",
      "  0%|          | 0/148 [00:00<?, ?it/s]"
     ]
    },
    {
     "name": "stdout",
     "output_type": "stream",
     "text": [
      "epoch: 3\n",
      "lr: 0.0001\n",
      "train lose: 0.22382782540611318\n",
      "val lose: 0.2645513387741866\n",
      "val js: 0.7149187985385864\n"
     ]
    },
    {
     "name": "stderr",
     "output_type": "stream",
     "text": [
      "100%|██████████| 148/148 [01:59<00:00,  1.24it/s]\n",
      "100%|██████████| 27/27 [00:05<00:00,  4.95it/s]\n",
      "  0%|          | 0/148 [00:00<?, ?it/s]"
     ]
    },
    {
     "name": "stdout",
     "output_type": "stream",
     "text": [
      "epoch: 4\n",
      "lr: 0.0001\n",
      "train lose: 0.1977783765241101\n",
      "val lose: 0.21007217742778636\n",
      "val js: 0.7718349479197286\n"
     ]
    },
    {
     "name": "stderr",
     "output_type": "stream",
     "text": [
      "100%|██████████| 148/148 [01:59<00:00,  1.24it/s]\n",
      "100%|██████████| 27/27 [00:05<00:00,  4.97it/s]\n",
      "  0%|          | 0/148 [00:00<?, ?it/s]"
     ]
    },
    {
     "name": "stdout",
     "output_type": "stream",
     "text": [
      "epoch: 5\n",
      "lr: 0.0001\n",
      "train lose: 0.18261767168705528\n",
      "val lose: 0.2029656665744605\n",
      "val js: 0.7604383470284442\n"
     ]
    },
    {
     "name": "stderr",
     "output_type": "stream",
     "text": [
      "100%|██████████| 148/148 [01:59<00:00,  1.24it/s]\n",
      "100%|██████████| 27/27 [00:05<00:00,  4.94it/s]\n",
      "  0%|          | 0/148 [00:00<?, ?it/s]"
     ]
    },
    {
     "name": "stdout",
     "output_type": "stream",
     "text": [
      "epoch: 6\n",
      "lr: 0.0001\n",
      "train lose: 0.16543844065352067\n",
      "val lose: 0.1961257838540607\n",
      "val js: 0.7589400614034486\n"
     ]
    },
    {
     "name": "stderr",
     "output_type": "stream",
     "text": [
      "100%|██████████| 148/148 [01:59<00:00,  1.24it/s]\n",
      "100%|██████████| 27/27 [00:05<00:00,  4.99it/s]\n",
      "  0%|          | 0/148 [00:00<?, ?it/s]"
     ]
    },
    {
     "name": "stdout",
     "output_type": "stream",
     "text": [
      "epoch: 7\n",
      "lr: 0.0001\n",
      "train lose: 0.15675337708278284\n",
      "val lose: 0.17554600122902128\n",
      "val js: 0.7806009932191583\n"
     ]
    },
    {
     "name": "stderr",
     "output_type": "stream",
     "text": [
      "100%|██████████| 148/148 [01:59<00:00,  1.24it/s]\n",
      "100%|██████████| 27/27 [00:05<00:00,  4.98it/s]\n",
      "  0%|          | 0/148 [00:00<?, ?it/s]"
     ]
    },
    {
     "name": "stdout",
     "output_type": "stream",
     "text": [
      "epoch: 8\n",
      "lr: 0.0001\n",
      "train lose: 0.14637580755594615\n",
      "val lose: 0.18707913160324097\n",
      "val js: 0.7548919669305697\n"
     ]
    },
    {
     "name": "stderr",
     "output_type": "stream",
     "text": [
      "100%|██████████| 148/148 [01:59<00:00,  1.24it/s]\n",
      "100%|██████████| 27/27 [00:05<00:00,  4.99it/s]\n",
      "  0%|          | 0/148 [00:00<?, ?it/s]"
     ]
    },
    {
     "name": "stdout",
     "output_type": "stream",
     "text": [
      "epoch: 9\n",
      "lr: 0.0001\n",
      "train lose: 0.13914694969315786\n",
      "val lose: 0.2039517335317753\n",
      "val js: 0.7269094286697312\n"
     ]
    },
    {
     "name": "stderr",
     "output_type": "stream",
     "text": [
      "100%|██████████| 148/148 [01:59<00:00,  1.24it/s]\n",
      "100%|██████████| 27/27 [00:05<00:00,  4.96it/s]\n",
      "  0%|          | 0/148 [00:00<?, ?it/s]"
     ]
    },
    {
     "name": "stdout",
     "output_type": "stream",
     "text": [
      "epoch: 10\n",
      "lr: 0.0001\n",
      "train lose: 0.13421063719166293\n",
      "val lose: 0.15713191087599154\n",
      "val js: 0.7881571655653302\n"
     ]
    },
    {
     "name": "stderr",
     "output_type": "stream",
     "text": [
      "100%|██████████| 148/148 [01:59<00:00,  1.24it/s]\n",
      "100%|██████████| 27/27 [00:05<00:00,  4.96it/s]\n",
      "  0%|          | 0/148 [00:00<?, ?it/s]"
     ]
    },
    {
     "name": "stdout",
     "output_type": "stream",
     "text": [
      "epoch: 11\n",
      "lr: 0.0001\n",
      "train lose: 0.12757534657076403\n",
      "val lose: 0.17971471862660515\n",
      "val js: 0.7513931512759795\n"
     ]
    },
    {
     "name": "stderr",
     "output_type": "stream",
     "text": [
      "100%|██████████| 148/148 [01:59<00:00,  1.24it/s]\n",
      "100%|██████████| 27/27 [00:05<00:00,  4.97it/s]\n",
      "  0%|          | 0/148 [00:00<?, ?it/s]"
     ]
    },
    {
     "name": "stdout",
     "output_type": "stream",
     "text": [
      "epoch: 12\n",
      "lr: 0.0001\n",
      "train lose: 0.1221656192194771\n",
      "val lose: 0.17704358255421673\n",
      "val js: 0.7513974419420477\n"
     ]
    },
    {
     "name": "stderr",
     "output_type": "stream",
     "text": [
      "100%|██████████| 148/148 [01:59<00:00,  1.24it/s]\n",
      "100%|██████████| 27/27 [00:05<00:00,  4.99it/s]\n",
      "  0%|          | 0/148 [00:00<?, ?it/s]"
     ]
    },
    {
     "name": "stdout",
     "output_type": "stream",
     "text": [
      "epoch: 13\n",
      "lr: 0.0001\n",
      "train lose: 0.12077411994136669\n",
      "val lose: 0.17465540794310747\n",
      "val js: 0.7536595119890364\n"
     ]
    },
    {
     "name": "stderr",
     "output_type": "stream",
     "text": [
      "100%|██████████| 148/148 [01:59<00:00,  1.24it/s]\n",
      "100%|██████████| 27/27 [00:05<00:00,  4.98it/s]\n",
      "  0%|          | 0/148 [00:00<?, ?it/s]"
     ]
    },
    {
     "name": "stdout",
     "output_type": "stream",
     "text": [
      "epoch: 14\n",
      "lr: 1e-05\n",
      "train lose: 0.11637451854609959\n",
      "val lose: 0.1909213231669532\n",
      "val js: 0.7313339756880985\n"
     ]
    },
    {
     "name": "stderr",
     "output_type": "stream",
     "text": [
      "100%|██████████| 148/148 [01:59<00:00,  1.24it/s]\n",
      "100%|██████████| 27/27 [00:05<00:00,  4.99it/s]\n",
      "  0%|          | 0/148 [00:00<?, ?it/s]"
     ]
    },
    {
     "name": "stdout",
     "output_type": "stream",
     "text": [
      "epoch: 15\n",
      "lr: 1e-05\n",
      "train lose: 0.10610883680449144\n",
      "val lose: 0.15155926401968356\n",
      "val js: 0.7828654980232557\n"
     ]
    },
    {
     "name": "stderr",
     "output_type": "stream",
     "text": [
      "100%|██████████| 148/148 [01:59<00:00,  1.24it/s]\n",
      "100%|██████████| 27/27 [00:05<00:00,  5.00it/s]\n",
      "  0%|          | 0/148 [00:00<?, ?it/s]"
     ]
    },
    {
     "name": "stdout",
     "output_type": "stream",
     "text": [
      "epoch: 16\n",
      "lr: 1e-05\n",
      "train lose: 0.10161267019606926\n",
      "val lose: 0.17071843105885717\n",
      "val js: 0.7564621418370956\n"
     ]
    },
    {
     "name": "stderr",
     "output_type": "stream",
     "text": [
      "100%|██████████| 148/148 [01:59<00:00,  1.24it/s]\n",
      "100%|██████████| 27/27 [00:05<00:00,  5.00it/s]\n",
      "  0%|          | 0/148 [00:00<?, ?it/s]"
     ]
    },
    {
     "name": "stdout",
     "output_type": "stream",
     "text": [
      "epoch: 17\n",
      "lr: 1e-05\n",
      "train lose: 0.10043458197567914\n",
      "val lose: 0.15954268944484215\n",
      "val js: 0.7713227617942624\n"
     ]
    },
    {
     "name": "stderr",
     "output_type": "stream",
     "text": [
      "100%|██████████| 148/148 [01:58<00:00,  1.25it/s]\n",
      "100%|██████████| 27/27 [00:05<00:00,  5.01it/s]\n",
      "  0%|          | 0/148 [00:00<?, ?it/s]"
     ]
    },
    {
     "name": "stdout",
     "output_type": "stream",
     "text": [
      "epoch: 18\n",
      "lr: 1.0000000000000002e-06\n",
      "train lose: 0.09813453551583193\n",
      "val lose: 0.1631071357815354\n",
      "val js: 0.7667535362797314\n"
     ]
    },
    {
     "name": "stderr",
     "output_type": "stream",
     "text": [
      "100%|██████████| 148/148 [01:58<00:00,  1.24it/s]\n",
      "100%|██████████| 27/27 [00:05<00:00,  4.96it/s]\n"
     ]
    },
    {
     "name": "stdout",
     "output_type": "stream",
     "text": [
      "epoch: 19\n",
      "lr: 1.0000000000000002e-06\n",
      "train lose: 0.0951757037357704\n",
      "val lose: 0.15289696085232277\n",
      "val js: 0.7799128163511582\n"
     ]
    }
   ],
   "source": [
    "for epoch in range(20):\n",
    "    train_loader = tqdm(train_loader)\n",
    "    train_loss = 0\n",
    "    model.train()\n",
    "    for i, (X, Y) in enumerate(train_loader):  # 使用枚举函数遍历train_loader\n",
    "        X = Variable(X).to(device) #转化数据类型\n",
    "        #X = Variable(X)\n",
    "        X = X.float()\n",
    "        Y = Variable(Y).to(device)\n",
    "        Y = Y.float()\n",
    "        outs = model(X)  # 正向传播\n",
    "        lossvalue = loss(outs, Y[:,0:out_channel,:,:])  # 求损失值\n",
    "        optimizer.zero_grad()  # 优化器梯度归零\n",
    "        lossvalue.backward()  # 反向转播，刷新梯度值\n",
    "        nn.utils.clip_grad_value_(model.parameters(), 1)\n",
    "        optimizer.step()  # 优化器运行一步\n",
    "        # 计算损失\n",
    "        train_loss += float(lossvalue)\n",
    "    val_loss = 0  # 定义验证损失\n",
    "    val_js = 0\n",
    "    max_js = 0\n",
    "    model.eval() #模型转化为评估模式\n",
    "    val_loader = tqdm(val_loader)\n",
    "    for i,(X, Y) in enumerate(val_loader):\n",
    "        X = Variable(X).to(device)\n",
    "        X = X.float()\n",
    "        Y = Variable(Y).to(device)\n",
    "        with torch.no_grad():\n",
    "            outs = model(X)\n",
    "            score = cal_jaccard_binary(outs, Y[:,0:out_channel,:,:])\n",
    "        lossvalue = 0\n",
    "        lossvalue += loss(outs, Y[:,0:out_channel,:,:])  # 求损失值\n",
    "        val_loss += float(lossvalue)\n",
    "        val_js += score\n",
    "    scheduler.step(val_js)\n",
    "    max_js = max(max_js,val_js)\n",
    "    if max_js == val_js:\n",
    "      torch.save(model, 'modelunet++.pkl')      \n",
    "    print(\"epoch:\" + ' ' + str(epoch))\n",
    "    lr = optimizer.state_dict()['param_groups'][0]['lr']\n",
    "    print(\"lr:\", lr)\n",
    "    print(\"train lose:\" + ' ' + str(train_loss / len(train_loader)))\n",
    "    print(\"val lose:\" + ' ' + str(val_loss / len(val_loader)))\n",
    "    print(\"val js:\" + ' ' + str(val_js / len(val_loader)))\n",
    "\n"
   ]
  },
  {
   "cell_type": "markdown",
   "metadata": {
    "colab_type": "text",
    "id": "HY8F811yJPRL"
   },
   "source": [
    "## 验证集输出"
   ]
  },
  {
   "cell_type": "code",
   "execution_count": 8,
   "metadata": {
    "colab": {},
    "colab_type": "code",
    "executionInfo": {
     "elapsed": 9744,
     "status": "ok",
     "timestamp": 1592394875802,
     "user": {
      "displayName": "Yichong Wang",
      "photoUrl": "",
      "userId": "10580894442079928862"
     },
     "user_tz": -480
    },
    "id": "RSQMTl5D6pRJ"
   },
   "outputs": [],
   "source": [
    "model = torch.load('modelunet++.pkl')\n",
    "postprocess = False\n",
    "device = torch.device('cuda' if torch.cuda.is_available() else 'cpu')\n",
    "model = model.to(device)\n",
    "model.eval()\n",
    "val_marker,val_border = [],[]\n",
    "val_pred = []\n",
    "val_y,val_x = [],[]\n",
    "for i, (X,Y) in enumerate(val_loader):\n",
    "    X = Variable(X).to(device)\n",
    "    X = X.float()\n",
    "    Y = Variable(Y).to(device)\n",
    "    with torch.no_grad():\n",
    "      out = model(X)\n",
    "      out_prob1 = torch.sigmoid(out[:,0,:,:])\n",
    "      out_prob2 = torch.sigmoid(out[:,1,:,:])\n",
    "    y_marker = out_prob1.cpu().clone().numpy()[0,:,:]\n",
    "    y_border = out_prob2.cpu().clone().numpy()[0,:,:]\n",
    "    val_marker.append(y_marker)\n",
    "    val_border.append(y_border)\n",
    "    x_real = X.cpu().clone().numpy()[0,0,:,:]\n",
    "    y_real = np.zeros((640,640,3))\n",
    "    y_real[:,:,0] = Y.cpu().clone().numpy()[0,0,:,:]\n",
    "    y_real[:,:,1] = Y.cpu().clone().numpy()[0,1,:,:]\n",
    "    y_real[:,:,2] = Y.cpu().clone().numpy()[0,2,:,:]        \n",
    "    val_y.append(y_real)\n",
    "    val_x.append(x_real)\n",
    "val_marker = np.asarray(val_marker)\n",
    "val_marker = np.expand_dims(val_marker,3)\n",
    "val_border = np.asarray(val_border)\n",
    "val_border = np.expand_dims(val_border,3)\n",
    "val_x = np.asarray(val_x)\n",
    "val_x = np.expand_dims(val_x,3)\n",
    "val_x_new = np.concatenate((val_marker, val_x), axis=3)\n",
    "val_y = np.asarray(val_y)"
   ]
  },
  {
   "cell_type": "markdown",
   "metadata": {
    "colab_type": "text",
    "id": "cq2I7sW4JNHj"
   },
   "source": [
    "## 测试集输出"
   ]
  },
  {
   "cell_type": "code",
   "execution_count": 9,
   "metadata": {
    "colab": {},
    "colab_type": "code",
    "executionInfo": {
     "elapsed": 7070,
     "status": "ok",
     "timestamp": 1592394890098,
     "user": {
      "displayName": "Yichong Wang",
      "photoUrl": "",
      "userId": "10580894442079928862"
     },
     "user_tz": -480
    },
    "id": "RetkkNcF7CSh"
   },
   "outputs": [],
   "source": [
    "tta_model = tta.SegmentationTTAWrapper(model, tta.aliases.d4_transform(), merge_mode='mean')\n",
    "test_x = []\n",
    "test_marker = []\n",
    "test_border = []\n",
    "device = torch.device('cuda' if torch.cuda.is_available() else 'cpu')\n",
    "for i, X in enumerate(test_loader):\n",
    "    X = Variable(X).to(device)\n",
    "    X = X.float()\n",
    "    with torch.no_grad():\n",
    "      out = model(X)\n",
    "      out_prob1 = torch.sigmoid(out[:,0,:,:])\n",
    "      out_prob2 = torch.sigmoid(out[:,1,:,:])\n",
    "    y_marker = out_prob1.cpu().clone().numpy()[0,:,:]\n",
    "    y_border = out_prob2.cpu().clone().numpy()[0,:,:]\n",
    "    x_real = X.cpu().clone().numpy()[0,0,:,:]\n",
    "    test_marker.append(y_marker)\n",
    "    test_border.append(y_border)\n",
    "    test_x.append(x_real)\n",
    "test_marker = np.asarray(test_marker)\n",
    "test_border = np.asarray(test_border)\n",
    "test_x = np.asarray(test_x)\n",
    "test_marker = np.expand_dims(test_marker,3)\n",
    "test_border = np.expand_dims(test_border,3)\n",
    "test_x = np.expand_dims(test_x,3)\n",
    "test_x_new = np.concatenate((test_marker, test_x), axis=3)"
   ]
  },
  {
   "cell_type": "markdown",
   "metadata": {
    "colab_type": "text",
    "id": "Yn2TTf8sJKcb"
   },
   "source": [
    "## 验证集jaccard score"
   ]
  },
  {
   "cell_type": "code",
   "execution_count": 10,
   "metadata": {
    "colab": {
     "base_uri": "https://localhost:8080/",
     "height": 151
    },
    "colab_type": "code",
    "executionInfo": {
     "elapsed": 17742,
     "status": "ok",
     "timestamp": 1592394910571,
     "user": {
      "displayName": "Yichong Wang",
      "photoUrl": "",
      "userId": "10580894442079928862"
     },
     "user_tz": -480
    },
    "id": "61MclBMBaWO_",
    "outputId": "57a18e1d-b2b9-444a-dad1-f60c5b0c89e2"
   },
   "outputs": [
    {
     "name": "stderr",
     "output_type": "stream",
     "text": [
      "/content/gdrive/My Drive/wzk/seg1/utils.py:184: UserWarning: Any labeled images will be returned as a boolean array. Did you mean to use a boolean array?\n",
      "  mask2 = remove_small_holes(mask1)\n"
     ]
    },
    {
     "name": "stdout",
     "output_type": "stream",
     "text": [
      "0.7437818875668173\n",
      "[0.82660545 0.68290434 0.81941004 0.71429614 0.74550364 0.48327137\n",
      " 0.92028653 0.86009262 0.57198744 0.56274945 0.8142197  0.89772105\n",
      " 0.81641551 0.78303539 0.7092615  0.72759442 0.87689321 0.74077994\n",
      " 0.46986786 0.65216621 0.81304077 0.70266726 0.8264449  0.74546959\n",
      " 0.92150795 0.71985984 0.67805883]\n"
     ]
    }
   ],
   "source": [
    "js = 0\n",
    "s = np.zeros(val_marker.shape[0])\n",
    "for i in range(val_marker.shape[0]):\n",
    "  marker = val_marker[i,:,:,0]\n",
    "  border = val_border[i,:,:,0]\n",
    "  process = output_postprocess(marker,border)\n",
    "  labels = (val_y[i,:,:,2]*255).astype(np.uint8)\n",
    "  s[i] = cal_jaccard(labels, process)\n",
    "  js += s[i]\n",
    "js = js/val_marker.shape[0]\n",
    "print(js)\n",
    "print(s)"
   ]
  },
  {
   "cell_type": "code",
   "execution_count": 13,
   "metadata": {
    "colab": {
     "base_uri": "https://localhost:8080/",
     "height": 1000,
     "output_embedded_package_id": "1FtnF95lriKc-ZdtE_u9qH6HX7JKB7RE5"
    },
    "colab_type": "code",
    "executionInfo": {
     "elapsed": 34061,
     "status": "ok",
     "timestamp": 1592395062342,
     "user": {
      "displayName": "Yichong Wang",
      "photoUrl": "",
      "userId": "10580894442079928862"
     },
     "user_tz": -480
    },
    "id": "Lc1DsblbbLqD",
    "outputId": "80308dc3-b26a-4855-9308-76c4c2079341"
   },
   "outputs": [
    {
     "data": {
      "text/plain": [
       "Output hidden; open in https://colab.research.google.com to view."
      ]
     },
     "metadata": {},
     "output_type": "display_data"
    }
   ],
   "source": [
    "out_path = './test_RES/mask'\n",
    "for i in range(33):\n",
    "  marker = test_marker[i,:,:,0]\n",
    "  border = test_border[i,:,:,0]\n",
    "  # plt.figure()\n",
    "  # plt.imshow(marker)\n",
    "  process = output_postprocess(marker,border)\n",
    "  process = process[6:634,6:634]\n",
    "  process = process.astype(np.uint16)\n",
    "  num = '00' + str(i)\n",
    "  out_file = out_path + num + '.tif'\n",
    "  imsave(out_file, process)\n",
    "  plt.figure()\n",
    "  plt.imshow(process)\n",
    "  plt.figure()\n",
    "  plt.imshow(test_x[i,:,:,0])\n"
   ]
  },
  {
   "cell_type": "code",
   "execution_count": null,
   "metadata": {
    "colab": {},
    "colab_type": "code",
    "id": "DjoW_euaI9b1"
   },
   "outputs": [],
   "source": []
  }
 ],
 "metadata": {
  "accelerator": "GPU",
  "colab": {
   "collapsed_sections": [],
   "name": "SegmentationDataset1.ipynb",
   "provenance": []
  },
  "kernelspec": {
   "display_name": "Python 3",
   "language": "python",
   "name": "python3"
  },
  "language_info": {
   "codemirror_mode": {
    "name": "ipython",
    "version": 3
   },
   "file_extension": ".py",
   "mimetype": "text/x-python",
   "name": "python",
   "nbconvert_exporter": "python",
   "pygments_lexer": "ipython3",
   "version": "3.7.7"
  },
  "widgets": {
   "application/vnd.jupyter.widget-state+json": {
    "33d1939ff6d649a99abb514d6ace671e": {
     "model_module": "@jupyter-widgets/controls",
     "model_name": "FloatProgressModel",
     "state": {
      "_dom_classes": [],
      "_model_module": "@jupyter-widgets/controls",
      "_model_module_version": "1.5.0",
      "_model_name": "FloatProgressModel",
      "_view_count": null,
      "_view_module": "@jupyter-widgets/controls",
      "_view_module_version": "1.5.0",
      "_view_name": "ProgressView",
      "bar_style": "success",
      "description": "100%",
      "description_tooltip": null,
      "layout": "IPY_MODEL_aeaa90b479fb4e78a95136e2956f6807",
      "max": 87306240,
      "min": 0,
      "orientation": "horizontal",
      "style": "IPY_MODEL_f52bf4e16d6c457480d4bc3766f17820",
      "value": 87306240
     }
    },
    "42a74ca4330042cbb1fd9951198c6c0c": {
     "model_module": "@jupyter-widgets/controls",
     "model_name": "HBoxModel",
     "state": {
      "_dom_classes": [],
      "_model_module": "@jupyter-widgets/controls",
      "_model_module_version": "1.5.0",
      "_model_name": "HBoxModel",
      "_view_count": null,
      "_view_module": "@jupyter-widgets/controls",
      "_view_module_version": "1.5.0",
      "_view_name": "HBoxView",
      "box_style": "",
      "children": [
       "IPY_MODEL_33d1939ff6d649a99abb514d6ace671e",
       "IPY_MODEL_8c2535cdf87c4b15bc357445d30dc0d2"
      ],
      "layout": "IPY_MODEL_7c62411ed4d0438488fe5b6e70c97d0c"
     }
    },
    "57efae4a651946dba94cf05bc6b95caa": {
     "model_module": "@jupyter-widgets/controls",
     "model_name": "DescriptionStyleModel",
     "state": {
      "_model_module": "@jupyter-widgets/controls",
      "_model_module_version": "1.5.0",
      "_model_name": "DescriptionStyleModel",
      "_view_count": null,
      "_view_module": "@jupyter-widgets/base",
      "_view_module_version": "1.2.0",
      "_view_name": "StyleView",
      "description_width": ""
     }
    },
    "7c62411ed4d0438488fe5b6e70c97d0c": {
     "model_module": "@jupyter-widgets/base",
     "model_name": "LayoutModel",
     "state": {
      "_model_module": "@jupyter-widgets/base",
      "_model_module_version": "1.2.0",
      "_model_name": "LayoutModel",
      "_view_count": null,
      "_view_module": "@jupyter-widgets/base",
      "_view_module_version": "1.2.0",
      "_view_name": "LayoutView",
      "align_content": null,
      "align_items": null,
      "align_self": null,
      "border": null,
      "bottom": null,
      "display": null,
      "flex": null,
      "flex_flow": null,
      "grid_area": null,
      "grid_auto_columns": null,
      "grid_auto_flow": null,
      "grid_auto_rows": null,
      "grid_column": null,
      "grid_gap": null,
      "grid_row": null,
      "grid_template_areas": null,
      "grid_template_columns": null,
      "grid_template_rows": null,
      "height": null,
      "justify_content": null,
      "justify_items": null,
      "left": null,
      "margin": null,
      "max_height": null,
      "max_width": null,
      "min_height": null,
      "min_width": null,
      "object_fit": null,
      "object_position": null,
      "order": null,
      "overflow": null,
      "overflow_x": null,
      "overflow_y": null,
      "padding": null,
      "right": null,
      "top": null,
      "visibility": null,
      "width": null
     }
    },
    "8c2535cdf87c4b15bc357445d30dc0d2": {
     "model_module": "@jupyter-widgets/controls",
     "model_name": "HTMLModel",
     "state": {
      "_dom_classes": [],
      "_model_module": "@jupyter-widgets/controls",
      "_model_module_version": "1.5.0",
      "_model_name": "HTMLModel",
      "_view_count": null,
      "_view_module": "@jupyter-widgets/controls",
      "_view_module_version": "1.5.0",
      "_view_name": "HTMLView",
      "description": "",
      "description_tooltip": null,
      "layout": "IPY_MODEL_a78e009e81ea493eafe79fd061f720be",
      "placeholder": "​",
      "style": "IPY_MODEL_57efae4a651946dba94cf05bc6b95caa",
      "value": " 83.3M/83.3M [00:20&lt;00:00, 4.19MB/s]"
     }
    },
    "a78e009e81ea493eafe79fd061f720be": {
     "model_module": "@jupyter-widgets/base",
     "model_name": "LayoutModel",
     "state": {
      "_model_module": "@jupyter-widgets/base",
      "_model_module_version": "1.2.0",
      "_model_name": "LayoutModel",
      "_view_count": null,
      "_view_module": "@jupyter-widgets/base",
      "_view_module_version": "1.2.0",
      "_view_name": "LayoutView",
      "align_content": null,
      "align_items": null,
      "align_self": null,
      "border": null,
      "bottom": null,
      "display": null,
      "flex": null,
      "flex_flow": null,
      "grid_area": null,
      "grid_auto_columns": null,
      "grid_auto_flow": null,
      "grid_auto_rows": null,
      "grid_column": null,
      "grid_gap": null,
      "grid_row": null,
      "grid_template_areas": null,
      "grid_template_columns": null,
      "grid_template_rows": null,
      "height": null,
      "justify_content": null,
      "justify_items": null,
      "left": null,
      "margin": null,
      "max_height": null,
      "max_width": null,
      "min_height": null,
      "min_width": null,
      "object_fit": null,
      "object_position": null,
      "order": null,
      "overflow": null,
      "overflow_x": null,
      "overflow_y": null,
      "padding": null,
      "right": null,
      "top": null,
      "visibility": null,
      "width": null
     }
    },
    "aeaa90b479fb4e78a95136e2956f6807": {
     "model_module": "@jupyter-widgets/base",
     "model_name": "LayoutModel",
     "state": {
      "_model_module": "@jupyter-widgets/base",
      "_model_module_version": "1.2.0",
      "_model_name": "LayoutModel",
      "_view_count": null,
      "_view_module": "@jupyter-widgets/base",
      "_view_module_version": "1.2.0",
      "_view_name": "LayoutView",
      "align_content": null,
      "align_items": null,
      "align_self": null,
      "border": null,
      "bottom": null,
      "display": null,
      "flex": null,
      "flex_flow": null,
      "grid_area": null,
      "grid_auto_columns": null,
      "grid_auto_flow": null,
      "grid_auto_rows": null,
      "grid_column": null,
      "grid_gap": null,
      "grid_row": null,
      "grid_template_areas": null,
      "grid_template_columns": null,
      "grid_template_rows": null,
      "height": null,
      "justify_content": null,
      "justify_items": null,
      "left": null,
      "margin": null,
      "max_height": null,
      "max_width": null,
      "min_height": null,
      "min_width": null,
      "object_fit": null,
      "object_position": null,
      "order": null,
      "overflow": null,
      "overflow_x": null,
      "overflow_y": null,
      "padding": null,
      "right": null,
      "top": null,
      "visibility": null,
      "width": null
     }
    },
    "f52bf4e16d6c457480d4bc3766f17820": {
     "model_module": "@jupyter-widgets/controls",
     "model_name": "ProgressStyleModel",
     "state": {
      "_model_module": "@jupyter-widgets/controls",
      "_model_module_version": "1.5.0",
      "_model_name": "ProgressStyleModel",
      "_view_count": null,
      "_view_module": "@jupyter-widgets/base",
      "_view_module_version": "1.2.0",
      "_view_name": "StyleView",
      "bar_color": null,
      "description_width": "initial"
     }
    }
   }
  }
 },
 "nbformat": 4,
 "nbformat_minor": 1
}
